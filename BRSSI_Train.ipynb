{
 "cells": [
  {
   "cell_type": "markdown",
   "id": "needed-market",
   "metadata": {},
   "source": [
    "# Bluetooth RSSI - model training\n",
    "\n",
    "## Python imports"
   ]
  },
  {
   "cell_type": "code",
   "execution_count": 1,
   "id": "statistical-windsor",
   "metadata": {},
   "outputs": [],
   "source": [
    "import numpy as np\n",
    "import os.path\n",
    "import pandas as pd\n",
    "import pickle\n",
    "import sklearn\n",
    "import sklearn.ensemble\n",
    "import sklearn.linear_model\n",
    "import sklearn.model_selection\n",
    "import sklearn.neural_network\n",
    "import sklearn.preprocessing\n",
    "import sklearn.svm"
   ]
  },
  {
   "cell_type": "markdown",
   "id": "downtown-caution",
   "metadata": {},
   "source": [
    "## Read dataset "
   ]
  },
  {
   "cell_type": "code",
   "execution_count": 2,
   "id": "professional-third",
   "metadata": {},
   "outputs": [
    {
     "data": {
      "text/html": [
       "<div>\n",
       "<style scoped>\n",
       "    .dataframe tbody tr th:only-of-type {\n",
       "        vertical-align: middle;\n",
       "    }\n",
       "\n",
       "    .dataframe tbody tr th {\n",
       "        vertical-align: top;\n",
       "    }\n",
       "\n",
       "    .dataframe thead th {\n",
       "        text-align: right;\n",
       "    }\n",
       "</style>\n",
       "<table border=\"1\" class=\"dataframe\">\n",
       "  <thead>\n",
       "    <tr style=\"text-align: right;\">\n",
       "      <th></th>\n",
       "      <th>time</th>\n",
       "      <th>label</th>\n",
       "      <th>source</th>\n",
       "      <th>6859b8e6126b</th>\n",
       "      <th>c69294c41e47</th>\n",
       "      <th>e7b2d23d89ec</th>\n",
       "      <th>e9bdcc7d8fe6</th>\n",
       "      <th>ef3b3dd2a002</th>\n",
       "      <th>ef3b3dd2a003</th>\n",
       "      <th>ef3b3dd2a005</th>\n",
       "      <th>...</th>\n",
       "      <th>ef3b3dd2a019</th>\n",
       "      <th>ef3b3dd2a020</th>\n",
       "      <th>ef3b3dd2e001</th>\n",
       "      <th>ef3b3dd2e003</th>\n",
       "      <th>ef3b3dd2e004</th>\n",
       "      <th>ef3b3dd2e006</th>\n",
       "      <th>ef3b3dd2e007</th>\n",
       "      <th>ef3b3dd2e008</th>\n",
       "      <th>ef3b3dd2e009</th>\n",
       "      <th>f80332eda645</th>\n",
       "    </tr>\n",
       "  </thead>\n",
       "  <tbody>\n",
       "    <tr>\n",
       "      <th>0</th>\n",
       "      <td>116</td>\n",
       "      <td>DG</td>\n",
       "      <td>Pixel</td>\n",
       "      <td>-89.5</td>\n",
       "      <td>-200.00</td>\n",
       "      <td>-98.000000</td>\n",
       "      <td>-84.000000</td>\n",
       "      <td>-94.500000</td>\n",
       "      <td>-200.000000</td>\n",
       "      <td>-101.000000</td>\n",
       "      <td>...</td>\n",
       "      <td>-82.000000</td>\n",
       "      <td>-200.000000</td>\n",
       "      <td>-95.0</td>\n",
       "      <td>-92.000000</td>\n",
       "      <td>-200.0</td>\n",
       "      <td>-200.000000</td>\n",
       "      <td>-200.000000</td>\n",
       "      <td>-200.00</td>\n",
       "      <td>-200.0</td>\n",
       "      <td>-98.000000</td>\n",
       "    </tr>\n",
       "    <tr>\n",
       "      <th>1</th>\n",
       "      <td>65</td>\n",
       "      <td>GL</td>\n",
       "      <td>Pixel</td>\n",
       "      <td>-200.0</td>\n",
       "      <td>-200.00</td>\n",
       "      <td>-100.666667</td>\n",
       "      <td>-200.000000</td>\n",
       "      <td>-88.666667</td>\n",
       "      <td>-87.000000</td>\n",
       "      <td>-98.250000</td>\n",
       "      <td>...</td>\n",
       "      <td>-104.000000</td>\n",
       "      <td>-94.000000</td>\n",
       "      <td>-200.0</td>\n",
       "      <td>-102.666667</td>\n",
       "      <td>-200.0</td>\n",
       "      <td>-89.333333</td>\n",
       "      <td>-200.000000</td>\n",
       "      <td>-98.50</td>\n",
       "      <td>-200.0</td>\n",
       "      <td>-200.000000</td>\n",
       "    </tr>\n",
       "    <tr>\n",
       "      <th>2</th>\n",
       "      <td>6</td>\n",
       "      <td>TS</td>\n",
       "      <td>Pixel</td>\n",
       "      <td>-85.5</td>\n",
       "      <td>-200.00</td>\n",
       "      <td>-200.000000</td>\n",
       "      <td>-87.000000</td>\n",
       "      <td>-200.000000</td>\n",
       "      <td>-200.000000</td>\n",
       "      <td>-200.000000</td>\n",
       "      <td>...</td>\n",
       "      <td>-96.000000</td>\n",
       "      <td>-200.000000</td>\n",
       "      <td>-200.0</td>\n",
       "      <td>-200.000000</td>\n",
       "      <td>-200.0</td>\n",
       "      <td>-200.000000</td>\n",
       "      <td>-200.000000</td>\n",
       "      <td>-200.00</td>\n",
       "      <td>-200.0</td>\n",
       "      <td>-200.000000</td>\n",
       "    </tr>\n",
       "    <tr>\n",
       "      <th>3</th>\n",
       "      <td>73</td>\n",
       "      <td>AT_O2</td>\n",
       "      <td>Redmi</td>\n",
       "      <td>-200.0</td>\n",
       "      <td>-200.00</td>\n",
       "      <td>-82.200000</td>\n",
       "      <td>-94.500000</td>\n",
       "      <td>-66.500000</td>\n",
       "      <td>-86.000000</td>\n",
       "      <td>-71.000000</td>\n",
       "      <td>...</td>\n",
       "      <td>-96.250000</td>\n",
       "      <td>-90.500000</td>\n",
       "      <td>-200.0</td>\n",
       "      <td>-92.000000</td>\n",
       "      <td>-200.0</td>\n",
       "      <td>-81.500000</td>\n",
       "      <td>-200.000000</td>\n",
       "      <td>-200.00</td>\n",
       "      <td>-95.0</td>\n",
       "      <td>-94.000000</td>\n",
       "    </tr>\n",
       "    <tr>\n",
       "      <th>4</th>\n",
       "      <td>26</td>\n",
       "      <td>AT_S</td>\n",
       "      <td>Redmi</td>\n",
       "      <td>-98.0</td>\n",
       "      <td>-94.25</td>\n",
       "      <td>-91.333333</td>\n",
       "      <td>-85.666667</td>\n",
       "      <td>-84.000000</td>\n",
       "      <td>-95.000000</td>\n",
       "      <td>-86.200000</td>\n",
       "      <td>...</td>\n",
       "      <td>-83.500000</td>\n",
       "      <td>-93.000000</td>\n",
       "      <td>-200.0</td>\n",
       "      <td>-75.000000</td>\n",
       "      <td>-200.0</td>\n",
       "      <td>-200.000000</td>\n",
       "      <td>-91.250000</td>\n",
       "      <td>-200.00</td>\n",
       "      <td>-200.0</td>\n",
       "      <td>-86.666667</td>\n",
       "    </tr>\n",
       "    <tr>\n",
       "      <th>...</th>\n",
       "      <td>...</td>\n",
       "      <td>...</td>\n",
       "      <td>...</td>\n",
       "      <td>...</td>\n",
       "      <td>...</td>\n",
       "      <td>...</td>\n",
       "      <td>...</td>\n",
       "      <td>...</td>\n",
       "      <td>...</td>\n",
       "      <td>...</td>\n",
       "      <td>...</td>\n",
       "      <td>...</td>\n",
       "      <td>...</td>\n",
       "      <td>...</td>\n",
       "      <td>...</td>\n",
       "      <td>...</td>\n",
       "      <td>...</td>\n",
       "      <td>...</td>\n",
       "      <td>...</td>\n",
       "      <td>...</td>\n",
       "      <td>...</td>\n",
       "    </tr>\n",
       "    <tr>\n",
       "      <th>3836</th>\n",
       "      <td>78</td>\n",
       "      <td>TMA</td>\n",
       "      <td>Pixel</td>\n",
       "      <td>-200.0</td>\n",
       "      <td>-200.00</td>\n",
       "      <td>-90.750000</td>\n",
       "      <td>-92.750000</td>\n",
       "      <td>-92.500000</td>\n",
       "      <td>-200.000000</td>\n",
       "      <td>-97.000000</td>\n",
       "      <td>...</td>\n",
       "      <td>-85.000000</td>\n",
       "      <td>-200.000000</td>\n",
       "      <td>-87.0</td>\n",
       "      <td>-200.000000</td>\n",
       "      <td>-96.5</td>\n",
       "      <td>-200.000000</td>\n",
       "      <td>-200.000000</td>\n",
       "      <td>-200.00</td>\n",
       "      <td>-200.0</td>\n",
       "      <td>-200.000000</td>\n",
       "    </tr>\n",
       "    <tr>\n",
       "      <th>3837</th>\n",
       "      <td>11</td>\n",
       "      <td>AT_CH</td>\n",
       "      <td>Pixel</td>\n",
       "      <td>-104.0</td>\n",
       "      <td>-106.00</td>\n",
       "      <td>-93.750000</td>\n",
       "      <td>-100.000000</td>\n",
       "      <td>-92.500000</td>\n",
       "      <td>-101.000000</td>\n",
       "      <td>-94.500000</td>\n",
       "      <td>...</td>\n",
       "      <td>-90.500000</td>\n",
       "      <td>-100.000000</td>\n",
       "      <td>-105.0</td>\n",
       "      <td>-86.333333</td>\n",
       "      <td>-200.0</td>\n",
       "      <td>-200.000000</td>\n",
       "      <td>-92.600000</td>\n",
       "      <td>-200.00</td>\n",
       "      <td>-200.0</td>\n",
       "      <td>-100.000000</td>\n",
       "    </tr>\n",
       "    <tr>\n",
       "      <th>3838</th>\n",
       "      <td>4</td>\n",
       "      <td>ES</td>\n",
       "      <td>Redmi</td>\n",
       "      <td>-200.0</td>\n",
       "      <td>-92.00</td>\n",
       "      <td>-91.000000</td>\n",
       "      <td>-97.000000</td>\n",
       "      <td>-89.500000</td>\n",
       "      <td>-86.333333</td>\n",
       "      <td>-88.500000</td>\n",
       "      <td>...</td>\n",
       "      <td>-200.000000</td>\n",
       "      <td>-80.666667</td>\n",
       "      <td>-200.0</td>\n",
       "      <td>-89.000000</td>\n",
       "      <td>-200.0</td>\n",
       "      <td>-94.000000</td>\n",
       "      <td>-200.000000</td>\n",
       "      <td>-74.25</td>\n",
       "      <td>-85.0</td>\n",
       "      <td>-96.500000</td>\n",
       "    </tr>\n",
       "    <tr>\n",
       "      <th>3839</th>\n",
       "      <td>118</td>\n",
       "      <td>SA</td>\n",
       "      <td>Pixel</td>\n",
       "      <td>-200.0</td>\n",
       "      <td>-200.00</td>\n",
       "      <td>-101.500000</td>\n",
       "      <td>-95.000000</td>\n",
       "      <td>-200.000000</td>\n",
       "      <td>-200.000000</td>\n",
       "      <td>-92.000000</td>\n",
       "      <td>...</td>\n",
       "      <td>-200.000000</td>\n",
       "      <td>-200.000000</td>\n",
       "      <td>-200.0</td>\n",
       "      <td>-89.500000</td>\n",
       "      <td>-200.0</td>\n",
       "      <td>-200.000000</td>\n",
       "      <td>-82.333333</td>\n",
       "      <td>-200.00</td>\n",
       "      <td>-200.0</td>\n",
       "      <td>-85.000000</td>\n",
       "    </tr>\n",
       "    <tr>\n",
       "      <th>3840</th>\n",
       "      <td>70</td>\n",
       "      <td>AT_I1</td>\n",
       "      <td>Redmi</td>\n",
       "      <td>-200.0</td>\n",
       "      <td>-200.00</td>\n",
       "      <td>-80.666667</td>\n",
       "      <td>-95.000000</td>\n",
       "      <td>-91.000000</td>\n",
       "      <td>-95.000000</td>\n",
       "      <td>-88.666667</td>\n",
       "      <td>...</td>\n",
       "      <td>-83.333333</td>\n",
       "      <td>-93.000000</td>\n",
       "      <td>-200.0</td>\n",
       "      <td>-84.250000</td>\n",
       "      <td>-200.0</td>\n",
       "      <td>-88.333333</td>\n",
       "      <td>-200.000000</td>\n",
       "      <td>-200.00</td>\n",
       "      <td>-200.0</td>\n",
       "      <td>-100.000000</td>\n",
       "    </tr>\n",
       "  </tbody>\n",
       "</table>\n",
       "<p>3841 rows × 30 columns</p>\n",
       "</div>"
      ],
      "text/plain": [
       "      time  label source  6859b8e6126b  c69294c41e47  e7b2d23d89ec  \\\n",
       "0      116     DG  Pixel         -89.5       -200.00    -98.000000   \n",
       "1       65     GL  Pixel        -200.0       -200.00   -100.666667   \n",
       "2        6     TS  Pixel         -85.5       -200.00   -200.000000   \n",
       "3       73  AT_O2  Redmi        -200.0       -200.00    -82.200000   \n",
       "4       26   AT_S  Redmi         -98.0        -94.25    -91.333333   \n",
       "...    ...    ...    ...           ...           ...           ...   \n",
       "3836    78    TMA  Pixel        -200.0       -200.00    -90.750000   \n",
       "3837    11  AT_CH  Pixel        -104.0       -106.00    -93.750000   \n",
       "3838     4     ES  Redmi        -200.0        -92.00    -91.000000   \n",
       "3839   118     SA  Pixel        -200.0       -200.00   -101.500000   \n",
       "3840    70  AT_I1  Redmi        -200.0       -200.00    -80.666667   \n",
       "\n",
       "      e9bdcc7d8fe6  ef3b3dd2a002  ef3b3dd2a003  ef3b3dd2a005  ...  \\\n",
       "0       -84.000000    -94.500000   -200.000000   -101.000000  ...   \n",
       "1      -200.000000    -88.666667    -87.000000    -98.250000  ...   \n",
       "2       -87.000000   -200.000000   -200.000000   -200.000000  ...   \n",
       "3       -94.500000    -66.500000    -86.000000    -71.000000  ...   \n",
       "4       -85.666667    -84.000000    -95.000000    -86.200000  ...   \n",
       "...            ...           ...           ...           ...  ...   \n",
       "3836    -92.750000    -92.500000   -200.000000    -97.000000  ...   \n",
       "3837   -100.000000    -92.500000   -101.000000    -94.500000  ...   \n",
       "3838    -97.000000    -89.500000    -86.333333    -88.500000  ...   \n",
       "3839    -95.000000   -200.000000   -200.000000    -92.000000  ...   \n",
       "3840    -95.000000    -91.000000    -95.000000    -88.666667  ...   \n",
       "\n",
       "      ef3b3dd2a019  ef3b3dd2a020  ef3b3dd2e001  ef3b3dd2e003  ef3b3dd2e004  \\\n",
       "0       -82.000000   -200.000000         -95.0    -92.000000        -200.0   \n",
       "1      -104.000000    -94.000000        -200.0   -102.666667        -200.0   \n",
       "2       -96.000000   -200.000000        -200.0   -200.000000        -200.0   \n",
       "3       -96.250000    -90.500000        -200.0    -92.000000        -200.0   \n",
       "4       -83.500000    -93.000000        -200.0    -75.000000        -200.0   \n",
       "...            ...           ...           ...           ...           ...   \n",
       "3836    -85.000000   -200.000000         -87.0   -200.000000         -96.5   \n",
       "3837    -90.500000   -100.000000        -105.0    -86.333333        -200.0   \n",
       "3838   -200.000000    -80.666667        -200.0    -89.000000        -200.0   \n",
       "3839   -200.000000   -200.000000        -200.0    -89.500000        -200.0   \n",
       "3840    -83.333333    -93.000000        -200.0    -84.250000        -200.0   \n",
       "\n",
       "      ef3b3dd2e006  ef3b3dd2e007  ef3b3dd2e008  ef3b3dd2e009  f80332eda645  \n",
       "0      -200.000000   -200.000000       -200.00        -200.0    -98.000000  \n",
       "1       -89.333333   -200.000000        -98.50        -200.0   -200.000000  \n",
       "2      -200.000000   -200.000000       -200.00        -200.0   -200.000000  \n",
       "3       -81.500000   -200.000000       -200.00         -95.0    -94.000000  \n",
       "4      -200.000000    -91.250000       -200.00        -200.0    -86.666667  \n",
       "...            ...           ...           ...           ...           ...  \n",
       "3836   -200.000000   -200.000000       -200.00        -200.0   -200.000000  \n",
       "3837   -200.000000    -92.600000       -200.00        -200.0   -100.000000  \n",
       "3838    -94.000000   -200.000000        -74.25         -85.0    -96.500000  \n",
       "3839   -200.000000    -82.333333       -200.00        -200.0    -85.000000  \n",
       "3840    -88.333333   -200.000000       -200.00        -200.0   -100.000000  \n",
       "\n",
       "[3841 rows x 30 columns]"
      ]
     },
     "execution_count": 2,
     "metadata": {},
     "output_type": "execute_result"
    }
   ],
   "source": [
    "DATASET_FILE  = 'datasets/brssi/train.tsv' \n",
    "train_data = pd.read_csv(DATASET_FILE,sep='\\t')\n",
    "train_data"
   ]
  },
  {
   "cell_type": "markdown",
   "id": "854f4010",
   "metadata": {},
   "source": [
    "## Train models"
   ]
  },
  {
   "cell_type": "code",
   "execution_count": 3,
   "id": "1ef4fe27",
   "metadata": {},
   "outputs": [
    {
     "name": "stdout",
     "output_type": "stream",
     "text": [
      "==== AdaBoost ====\n",
      "Fitting 4 folds for each of 9 candidates, totalling 36 fits\n",
      "[CV 1/4] END learning_rate=1.0, n_estimators=200;, score=(train=0.711, test=0.665) total time=   1.2s\n",
      "[CV 2/4] END learning_rate=1.0, n_estimators=200;, score=(train=0.690, test=0.670) total time=   1.2s\n",
      "[CV 3/4] END learning_rate=1.0, n_estimators=200;, score=(train=0.661, test=0.641) total time=   1.2s\n",
      "[CV 4/4] END learning_rate=1.0, n_estimators=200;, score=(train=0.666, test=0.652) total time=   1.2s\n",
      "[CV 1/4] END learning_rate=1.0, n_estimators=300;, score=(train=0.685, test=0.660) total time=   1.9s\n",
      "[CV 2/4] END learning_rate=1.0, n_estimators=300;, score=(train=0.712, test=0.691) total time=   1.8s\n",
      "[CV 3/4] END learning_rate=1.0, n_estimators=300;, score=(train=0.698, test=0.669) total time=   1.8s\n",
      "[CV 4/4] END learning_rate=1.0, n_estimators=300;, score=(train=0.701, test=0.701) total time=   1.9s\n",
      "[CV 1/4] END learning_rate=1.0, n_estimators=400;, score=(train=0.713, test=0.686) total time=   2.4s\n",
      "[CV 2/4] END learning_rate=1.0, n_estimators=400;, score=(train=0.721, test=0.716) total time=   2.4s\n",
      "[CV 3/4] END learning_rate=1.0, n_estimators=400;, score=(train=0.726, test=0.685) total time=   2.4s\n",
      "[CV 4/4] END learning_rate=1.0, n_estimators=400;, score=(train=0.719, test=0.711) total time=   2.4s\n",
      "[CV 1/4] END learning_rate=0.75, n_estimators=200;, score=(train=0.687, test=0.634) total time=   1.2s\n",
      "[CV 2/4] END learning_rate=0.75, n_estimators=200;, score=(train=0.680, test=0.643) total time=   1.2s\n",
      "[CV 3/4] END learning_rate=0.75, n_estimators=200;, score=(train=0.683, test=0.648) total time=   1.2s\n",
      "[CV 4/4] END learning_rate=0.75, n_estimators=200;, score=(train=0.677, test=0.670) total time=   1.2s\n",
      "[CV 1/4] END learning_rate=0.75, n_estimators=300;, score=(train=0.713, test=0.671) total time=   1.8s\n",
      "[CV 2/4] END learning_rate=0.75, n_estimators=300;, score=(train=0.699, test=0.690) total time=   1.8s\n",
      "[CV 3/4] END learning_rate=0.75, n_estimators=300;, score=(train=0.707, test=0.671) total time=   1.9s\n",
      "[CV 4/4] END learning_rate=0.75, n_estimators=300;, score=(train=0.675, test=0.682) total time=   1.8s\n",
      "[CV 1/4] END learning_rate=0.75, n_estimators=400;, score=(train=0.691, test=0.681) total time=   2.5s\n",
      "[CV 2/4] END learning_rate=0.75, n_estimators=400;, score=(train=0.698, test=0.692) total time=   2.5s\n",
      "[CV 3/4] END learning_rate=0.75, n_estimators=400;, score=(train=0.711, test=0.668) total time=   2.5s\n",
      "[CV 4/4] END learning_rate=0.75, n_estimators=400;, score=(train=0.680, test=0.671) total time=   2.5s\n",
      "[CV 1/4] END learning_rate=0.5, n_estimators=200;, score=(train=0.636, test=0.597) total time=   1.2s\n",
      "[CV 2/4] END learning_rate=0.5, n_estimators=200;, score=(train=0.629, test=0.599) total time=   1.2s\n",
      "[CV 3/4] END learning_rate=0.5, n_estimators=200;, score=(train=0.616, test=0.609) total time=   1.2s\n",
      "[CV 4/4] END learning_rate=0.5, n_estimators=200;, score=(train=0.596, test=0.603) total time=   1.2s\n",
      "[CV 1/4] END learning_rate=0.5, n_estimators=300;, score=(train=0.669, test=0.621) total time=   1.9s\n",
      "[CV 2/4] END learning_rate=0.5, n_estimators=300;, score=(train=0.688, test=0.658) total time=   1.9s\n",
      "[CV 3/4] END learning_rate=0.5, n_estimators=300;, score=(train=0.651, test=0.600) total time=   1.9s\n",
      "[CV 4/4] END learning_rate=0.5, n_estimators=300;, score=(train=0.669, test=0.666) total time=   1.9s\n",
      "[CV 1/4] END learning_rate=0.5, n_estimators=400;, score=(train=0.684, test=0.641) total time=   2.5s\n",
      "[CV 2/4] END learning_rate=0.5, n_estimators=400;, score=(train=0.709, test=0.675) total time=   2.5s\n",
      "[CV 3/4] END learning_rate=0.5, n_estimators=400;, score=(train=0.700, test=0.666) total time=   2.5s\n",
      "[CV 4/4] END learning_rate=0.5, n_estimators=400;, score=(train=0.705, test=0.697) total time=   2.5s\n",
      "==== DecisionTree ====\n",
      "Fitting 4 folds for each of 9 candidates, totalling 36 fits\n",
      "[CV 1/4] END max_features=None, min_samples_split=2;, score=(train=1.000, test=0.703) total time=   0.0s\n",
      "[CV 2/4] END max_features=None, min_samples_split=2;, score=(train=1.000, test=0.739) total time=   0.0s\n",
      "[CV 3/4] END max_features=None, min_samples_split=2;, score=(train=1.000, test=0.749) total time=   0.0s\n",
      "[CV 4/4] END max_features=None, min_samples_split=2;, score=(train=1.000, test=0.762) total time=   0.0s\n",
      "[CV 1/4] END max_features=None, min_samples_split=0.01;, score=(train=0.861, test=0.697) total time=   0.0s\n",
      "[CV 2/4] END max_features=None, min_samples_split=0.01;, score=(train=0.849, test=0.715) total time=   0.0s\n",
      "[CV 3/4] END max_features=None, min_samples_split=0.01;, score=(train=0.847, test=0.703) total time=   0.0s\n",
      "[CV 4/4] END max_features=None, min_samples_split=0.01;, score=(train=0.852, test=0.729) total time=   0.0s\n",
      "[CV 1/4] END max_features=None, min_samples_split=0.02;, score=(train=0.813, test=0.694) total time=   0.0s\n",
      "[CV 2/4] END max_features=None, min_samples_split=0.02;, score=(train=0.793, test=0.673) total time=   0.0s\n",
      "[CV 3/4] END max_features=None, min_samples_split=0.02;, score=(train=0.798, test=0.673) total time=   0.0s\n",
      "[CV 4/4] END max_features=None, min_samples_split=0.02;, score=(train=0.796, test=0.708) total time=   0.0s\n",
      "[CV 1/4] END max_features=log2, min_samples_split=2;, score=(train=1.000, test=0.677) total time=   0.0s\n",
      "[CV 2/4] END max_features=log2, min_samples_split=2;, score=(train=1.000, test=0.681) total time=   0.0s\n",
      "[CV 3/4] END max_features=log2, min_samples_split=2;, score=(train=1.000, test=0.696) total time=   0.0s\n",
      "[CV 4/4] END max_features=log2, min_samples_split=2;, score=(train=1.000, test=0.681) total time=   0.0s\n",
      "[CV 1/4] END max_features=log2, min_samples_split=0.01;, score=(train=0.783, test=0.616) total time=   0.0s\n",
      "[CV 2/4] END max_features=log2, min_samples_split=0.01;, score=(train=0.789, test=0.633) total time=   0.0s\n",
      "[CV 3/4] END max_features=log2, min_samples_split=0.01;, score=(train=0.789, test=0.632) total time=   0.0s\n",
      "[CV 4/4] END max_features=log2, min_samples_split=0.01;, score=(train=0.790, test=0.679) total time=   0.0s\n",
      "[CV 1/4] END max_features=log2, min_samples_split=0.02;, score=(train=0.721, test=0.595) total time=   0.0s\n",
      "[CV 2/4] END max_features=log2, min_samples_split=0.02;, score=(train=0.708, test=0.633) total time=   0.0s\n",
      "[CV 3/4] END max_features=log2, min_samples_split=0.02;, score=(train=0.689, test=0.573) total time=   0.0s\n",
      "[CV 4/4] END max_features=log2, min_samples_split=0.02;, score=(train=0.701, test=0.602) total time=   0.0s\n",
      "[CV 1/4] END max_features=sqrt, min_samples_split=2;, score=(train=1.000, test=0.690) total time=   0.0s\n",
      "[CV 2/4] END max_features=sqrt, min_samples_split=2;, score=(train=1.000, test=0.697) total time=   0.0s\n",
      "[CV 3/4] END max_features=sqrt, min_samples_split=2;, score=(train=1.000, test=0.695) total time=   0.0s\n",
      "[CV 4/4] END max_features=sqrt, min_samples_split=2;, score=(train=1.000, test=0.676) total time=   0.0s\n",
      "[CV 1/4] END max_features=sqrt, min_samples_split=0.01;, score=(train=0.790, test=0.639) total time=   0.0s\n",
      "[CV 2/4] END max_features=sqrt, min_samples_split=0.01;, score=(train=0.784, test=0.632) total time=   0.0s\n",
      "[CV 3/4] END max_features=sqrt, min_samples_split=0.01;, score=(train=0.784, test=0.671) total time=   0.0s\n",
      "[CV 4/4] END max_features=sqrt, min_samples_split=0.01;, score=(train=0.772, test=0.639) total time=   0.0s\n",
      "[CV 1/4] END max_features=sqrt, min_samples_split=0.02;, score=(train=0.733, test=0.639) total time=   0.0s\n",
      "[CV 2/4] END max_features=sqrt, min_samples_split=0.02;, score=(train=0.699, test=0.632) total time=   0.0s\n",
      "[CV 3/4] END max_features=sqrt, min_samples_split=0.02;, score=(train=0.725, test=0.605) total time=   0.0s\n",
      "[CV 4/4] END max_features=sqrt, min_samples_split=0.02;, score=(train=0.712, test=0.624) total time=   0.0s\n",
      "==== GradientBoost ====\n",
      "Fitting 4 folds for each of 4 candidates, totalling 16 fits\n",
      "[CV 1/4] END learning_rate=0.1, n_estimators=50;, score=(train=0.999, test=0.876) total time=   9.4s\n",
      "[CV 2/4] END learning_rate=0.1, n_estimators=50;, score=(train=0.998, test=0.895) total time=   9.4s\n",
      "[CV 3/4] END learning_rate=0.1, n_estimators=50;, score=(train=0.998, test=0.871) total time=   9.5s\n",
      "[CV 4/4] END learning_rate=0.1, n_estimators=50;, score=(train=0.998, test=0.877) total time=   9.4s\n",
      "[CV 1/4] END learning_rate=0.1, n_estimators=100;, score=(train=1.000, test=0.890) total time=  18.8s\n"
     ]
    },
    {
     "name": "stdout",
     "output_type": "stream",
     "text": [
      "[CV 2/4] END learning_rate=0.1, n_estimators=100;, score=(train=1.000, test=0.905) total time=  18.9s\n",
      "[CV 3/4] END learning_rate=0.1, n_estimators=100;, score=(train=1.000, test=0.889) total time=  18.8s\n",
      "[CV 4/4] END learning_rate=0.1, n_estimators=100;, score=(train=1.000, test=0.898) total time=  18.9s\n",
      "[CV 1/4] END learning_rate=0.2, n_estimators=50;, score=(train=1.000, test=0.883) total time=   9.5s\n",
      "[CV 2/4] END learning_rate=0.2, n_estimators=50;, score=(train=1.000, test=0.905) total time=   9.4s\n",
      "[CV 3/4] END learning_rate=0.2, n_estimators=50;, score=(train=1.000, test=0.892) total time=   9.4s\n",
      "[CV 4/4] END learning_rate=0.2, n_estimators=50;, score=(train=1.000, test=0.880) total time=   9.4s\n",
      "[CV 1/4] END learning_rate=0.2, n_estimators=100;, score=(train=1.000, test=0.890) total time=  18.7s\n",
      "[CV 2/4] END learning_rate=0.2, n_estimators=100;, score=(train=1.000, test=0.916) total time=  18.9s\n",
      "[CV 3/4] END learning_rate=0.2, n_estimators=100;, score=(train=1.000, test=0.898) total time=  19.2s\n",
      "[CV 4/4] END learning_rate=0.2, n_estimators=100;, score=(train=1.000, test=0.891) total time=  25.3s\n",
      "==== KNN ====\n",
      "Fitting 4 folds for each of 24 candidates, totalling 96 fits\n",
      "[CV 1/4] END algorithm=ball_tree, n_neighbors=5, weights=uniform;, score=(train=0.705, test=0.565) total time=   0.1s\n",
      "[CV 2/4] END algorithm=ball_tree, n_neighbors=5, weights=uniform;, score=(train=0.704, test=0.558) total time=   0.1s\n",
      "[CV 3/4] END algorithm=ball_tree, n_neighbors=5, weights=uniform;, score=(train=0.714, test=0.556) total time=   0.1s\n",
      "[CV 4/4] END algorithm=ball_tree, n_neighbors=5, weights=uniform;, score=(train=0.704, test=0.570) total time=   0.1s\n",
      "[CV 1/4] END algorithm=ball_tree, n_neighbors=5, weights=distance;, score=(train=1.000, test=0.566) total time=   0.1s\n",
      "[CV 2/4] END algorithm=ball_tree, n_neighbors=5, weights=distance;, score=(train=1.000, test=0.577) total time=   0.1s\n",
      "[CV 3/4] END algorithm=ball_tree, n_neighbors=5, weights=distance;, score=(train=1.000, test=0.564) total time=   0.1s\n",
      "[CV 4/4] END algorithm=ball_tree, n_neighbors=5, weights=distance;, score=(train=1.000, test=0.584) total time=   0.1s\n",
      "[CV 1/4] END algorithm=ball_tree, n_neighbors=20, weights=uniform;, score=(train=0.636, test=0.582) total time=   0.1s\n",
      "[CV 2/4] END algorithm=ball_tree, n_neighbors=20, weights=uniform;, score=(train=0.629, test=0.582) total time=   0.1s\n",
      "[CV 3/4] END algorithm=ball_tree, n_neighbors=20, weights=uniform;, score=(train=0.633, test=0.581) total time=   0.1s\n",
      "[CV 4/4] END algorithm=ball_tree, n_neighbors=20, weights=uniform;, score=(train=0.617, test=0.574) total time=   0.1s\n",
      "[CV 1/4] END algorithm=ball_tree, n_neighbors=20, weights=distance;, score=(train=1.000, test=0.572) total time=   0.1s\n",
      "[CV 2/4] END algorithm=ball_tree, n_neighbors=20, weights=distance;, score=(train=1.000, test=0.572) total time=   0.1s\n",
      "[CV 3/4] END algorithm=ball_tree, n_neighbors=20, weights=distance;, score=(train=1.000, test=0.580) total time=   0.1s\n",
      "[CV 4/4] END algorithm=ball_tree, n_neighbors=20, weights=distance;, score=(train=1.000, test=0.580) total time=   0.1s\n",
      "[CV 1/4] END algorithm=ball_tree, n_neighbors=80, weights=uniform;, score=(train=0.580, test=0.537) total time=   0.1s\n",
      "[CV 2/4] END algorithm=ball_tree, n_neighbors=80, weights=uniform;, score=(train=0.563, test=0.555) total time=   0.1s\n",
      "[CV 3/4] END algorithm=ball_tree, n_neighbors=80, weights=uniform;, score=(train=0.565, test=0.561) total time=   0.1s\n",
      "[CV 4/4] END algorithm=ball_tree, n_neighbors=80, weights=uniform;, score=(train=0.565, test=0.545) total time=   0.1s\n",
      "[CV 1/4] END algorithm=ball_tree, n_neighbors=80, weights=distance;, score=(train=1.000, test=0.560) total time=   0.1s\n",
      "[CV 2/4] END algorithm=ball_tree, n_neighbors=80, weights=distance;, score=(train=1.000, test=0.557) total time=   0.1s\n",
      "[CV 3/4] END algorithm=ball_tree, n_neighbors=80, weights=distance;, score=(train=1.000, test=0.588) total time=   0.1s\n",
      "[CV 4/4] END algorithm=ball_tree, n_neighbors=80, weights=distance;, score=(train=1.000, test=0.561) total time=   0.1s\n",
      "[CV 1/4] END algorithm=ball_tree, n_neighbors=160, weights=uniform;, score=(train=0.537, test=0.489) total time=   0.1s\n",
      "[CV 2/4] END algorithm=ball_tree, n_neighbors=160, weights=uniform;, score=(train=0.521, test=0.519) total time=   0.1s\n",
      "[CV 3/4] END algorithm=ball_tree, n_neighbors=160, weights=uniform;, score=(train=0.525, test=0.522) total time=   0.1s\n",
      "[CV 4/4] END algorithm=ball_tree, n_neighbors=160, weights=uniform;, score=(train=0.523, test=0.511) total time=   0.1s\n",
      "[CV 1/4] END algorithm=ball_tree, n_neighbors=160, weights=distance;, score=(train=1.000, test=0.523) total time=   0.1s\n",
      "[CV 2/4] END algorithm=ball_tree, n_neighbors=160, weights=distance;, score=(train=1.000, test=0.531) total time=   0.1s\n",
      "[CV 3/4] END algorithm=ball_tree, n_neighbors=160, weights=distance;, score=(train=1.000, test=0.551) total time=   0.1s\n",
      "[CV 4/4] END algorithm=ball_tree, n_neighbors=160, weights=distance;, score=(train=1.000, test=0.536) total time=   0.1s\n",
      "[CV 1/4] END algorithm=kd_tree, n_neighbors=5, weights=uniform;, score=(train=0.705, test=0.565) total time=   0.1s\n",
      "[CV 2/4] END algorithm=kd_tree, n_neighbors=5, weights=uniform;, score=(train=0.704, test=0.558) total time=   0.1s\n",
      "[CV 3/4] END algorithm=kd_tree, n_neighbors=5, weights=uniform;, score=(train=0.714, test=0.556) total time=   0.1s\n",
      "[CV 4/4] END algorithm=kd_tree, n_neighbors=5, weights=uniform;, score=(train=0.704, test=0.570) total time=   0.1s\n",
      "[CV 1/4] END algorithm=kd_tree, n_neighbors=5, weights=distance;, score=(train=1.000, test=0.566) total time=   0.1s\n",
      "[CV 2/4] END algorithm=kd_tree, n_neighbors=5, weights=distance;, score=(train=1.000, test=0.577) total time=   0.1s\n",
      "[CV 3/4] END algorithm=kd_tree, n_neighbors=5, weights=distance;, score=(train=1.000, test=0.564) total time=   0.1s\n",
      "[CV 4/4] END algorithm=kd_tree, n_neighbors=5, weights=distance;, score=(train=1.000, test=0.584) total time=   0.1s\n",
      "[CV 1/4] END algorithm=kd_tree, n_neighbors=20, weights=uniform;, score=(train=0.636, test=0.582) total time=   0.1s\n",
      "[CV 2/4] END algorithm=kd_tree, n_neighbors=20, weights=uniform;, score=(train=0.629, test=0.582) total time=   0.1s\n",
      "[CV 3/4] END algorithm=kd_tree, n_neighbors=20, weights=uniform;, score=(train=0.633, test=0.581) total time=   0.1s\n",
      "[CV 4/4] END algorithm=kd_tree, n_neighbors=20, weights=uniform;, score=(train=0.617, test=0.574) total time=   0.1s\n",
      "[CV 1/4] END algorithm=kd_tree, n_neighbors=20, weights=distance;, score=(train=1.000, test=0.572) total time=   0.1s\n",
      "[CV 2/4] END algorithm=kd_tree, n_neighbors=20, weights=distance;, score=(train=1.000, test=0.572) total time=   0.1s\n",
      "[CV 3/4] END algorithm=kd_tree, n_neighbors=20, weights=distance;, score=(train=1.000, test=0.580) total time=   0.1s\n",
      "[CV 4/4] END algorithm=kd_tree, n_neighbors=20, weights=distance;, score=(train=1.000, test=0.580) total time=   0.1s\n",
      "[CV 1/4] END algorithm=kd_tree, n_neighbors=80, weights=uniform;, score=(train=0.580, test=0.537) total time=   0.2s\n",
      "[CV 2/4] END algorithm=kd_tree, n_neighbors=80, weights=uniform;, score=(train=0.563, test=0.555) total time=   0.1s\n",
      "[CV 3/4] END algorithm=kd_tree, n_neighbors=80, weights=uniform;, score=(train=0.565, test=0.561) total time=   0.1s\n",
      "[CV 4/4] END algorithm=kd_tree, n_neighbors=80, weights=uniform;, score=(train=0.565, test=0.545) total time=   0.1s\n",
      "[CV 1/4] END algorithm=kd_tree, n_neighbors=80, weights=distance;, score=(train=1.000, test=0.560) total time=   0.1s\n",
      "[CV 2/4] END algorithm=kd_tree, n_neighbors=80, weights=distance;, score=(train=1.000, test=0.557) total time=   0.1s\n",
      "[CV 3/4] END algorithm=kd_tree, n_neighbors=80, weights=distance;, score=(train=1.000, test=0.588) total time=   0.1s\n",
      "[CV 4/4] END algorithm=kd_tree, n_neighbors=80, weights=distance;, score=(train=1.000, test=0.561) total time=   0.1s\n",
      "[CV 1/4] END algorithm=kd_tree, n_neighbors=160, weights=uniform;, score=(train=0.537, test=0.489) total time=   0.1s\n",
      "[CV 2/4] END algorithm=kd_tree, n_neighbors=160, weights=uniform;, score=(train=0.521, test=0.519) total time=   0.1s\n",
      "[CV 3/4] END algorithm=kd_tree, n_neighbors=160, weights=uniform;, score=(train=0.525, test=0.522) total time=   0.1s\n",
      "[CV 4/4] END algorithm=kd_tree, n_neighbors=160, weights=uniform;, score=(train=0.523, test=0.511) total time=   0.1s\n"
     ]
    },
    {
     "name": "stdout",
     "output_type": "stream",
     "text": [
      "[CV 1/4] END algorithm=kd_tree, n_neighbors=160, weights=distance;, score=(train=1.000, test=0.523) total time=   0.1s\n",
      "[CV 2/4] END algorithm=kd_tree, n_neighbors=160, weights=distance;, score=(train=1.000, test=0.531) total time=   0.1s\n",
      "[CV 3/4] END algorithm=kd_tree, n_neighbors=160, weights=distance;, score=(train=1.000, test=0.551) total time=   0.1s\n",
      "[CV 4/4] END algorithm=kd_tree, n_neighbors=160, weights=distance;, score=(train=1.000, test=0.536) total time=   0.1s\n",
      "[CV 1/4] END algorithm=brute, n_neighbors=5, weights=uniform;, score=(train=0.705, test=0.565) total time=   0.1s\n",
      "[CV 2/4] END algorithm=brute, n_neighbors=5, weights=uniform;, score=(train=0.704, test=0.558) total time=   0.0s\n",
      "[CV 3/4] END algorithm=brute, n_neighbors=5, weights=uniform;, score=(train=0.714, test=0.556) total time=   0.0s\n",
      "[CV 4/4] END algorithm=brute, n_neighbors=5, weights=uniform;, score=(train=0.704, test=0.570) total time=   0.0s\n",
      "[CV 1/4] END algorithm=brute, n_neighbors=5, weights=distance;, score=(train=1.000, test=0.566) total time=   0.0s\n",
      "[CV 2/4] END algorithm=brute, n_neighbors=5, weights=distance;, score=(train=1.000, test=0.577) total time=   0.0s\n",
      "[CV 3/4] END algorithm=brute, n_neighbors=5, weights=distance;, score=(train=1.000, test=0.564) total time=   0.0s\n",
      "[CV 4/4] END algorithm=brute, n_neighbors=5, weights=distance;, score=(train=1.000, test=0.584) total time=   0.0s\n",
      "[CV 1/4] END algorithm=brute, n_neighbors=20, weights=uniform;, score=(train=0.636, test=0.582) total time=   0.0s\n",
      "[CV 2/4] END algorithm=brute, n_neighbors=20, weights=uniform;, score=(train=0.629, test=0.582) total time=   0.0s\n",
      "[CV 3/4] END algorithm=brute, n_neighbors=20, weights=uniform;, score=(train=0.633, test=0.581) total time=   0.0s\n",
      "[CV 4/4] END algorithm=brute, n_neighbors=20, weights=uniform;, score=(train=0.617, test=0.574) total time=   0.0s\n",
      "[CV 1/4] END algorithm=brute, n_neighbors=20, weights=distance;, score=(train=1.000, test=0.572) total time=   0.0s\n",
      "[CV 2/4] END algorithm=brute, n_neighbors=20, weights=distance;, score=(train=1.000, test=0.572) total time=   0.0s\n",
      "[CV 3/4] END algorithm=brute, n_neighbors=20, weights=distance;, score=(train=1.000, test=0.580) total time=   0.0s\n",
      "[CV 4/4] END algorithm=brute, n_neighbors=20, weights=distance;, score=(train=1.000, test=0.580) total time=   0.0s\n",
      "[CV 1/4] END algorithm=brute, n_neighbors=80, weights=uniform;, score=(train=0.580, test=0.537) total time=   0.0s\n",
      "[CV 2/4] END algorithm=brute, n_neighbors=80, weights=uniform;, score=(train=0.563, test=0.555) total time=   0.1s\n",
      "[CV 3/4] END algorithm=brute, n_neighbors=80, weights=uniform;, score=(train=0.565, test=0.561) total time=   0.1s\n",
      "[CV 4/4] END algorithm=brute, n_neighbors=80, weights=uniform;, score=(train=0.565, test=0.545) total time=   0.1s\n",
      "[CV 1/4] END algorithm=brute, n_neighbors=80, weights=distance;, score=(train=1.000, test=0.560) total time=   0.0s\n",
      "[CV 2/4] END algorithm=brute, n_neighbors=80, weights=distance;, score=(train=1.000, test=0.557) total time=   0.0s\n",
      "[CV 3/4] END algorithm=brute, n_neighbors=80, weights=distance;, score=(train=1.000, test=0.588) total time=   0.0s\n",
      "[CV 4/4] END algorithm=brute, n_neighbors=80, weights=distance;, score=(train=1.000, test=0.561) total time=   0.0s\n",
      "[CV 1/4] END algorithm=brute, n_neighbors=160, weights=uniform;, score=(train=0.537, test=0.489) total time=   0.1s\n",
      "[CV 2/4] END algorithm=brute, n_neighbors=160, weights=uniform;, score=(train=0.521, test=0.519) total time=   0.1s\n",
      "[CV 3/4] END algorithm=brute, n_neighbors=160, weights=uniform;, score=(train=0.525, test=0.522) total time=   0.1s\n",
      "[CV 4/4] END algorithm=brute, n_neighbors=160, weights=uniform;, score=(train=0.523, test=0.511) total time=   0.1s\n",
      "[CV 1/4] END algorithm=brute, n_neighbors=160, weights=distance;, score=(train=1.000, test=0.523) total time=   0.1s\n",
      "[CV 2/4] END algorithm=brute, n_neighbors=160, weights=distance;, score=(train=1.000, test=0.531) total time=   0.1s\n",
      "[CV 3/4] END algorithm=brute, n_neighbors=160, weights=distance;, score=(train=1.000, test=0.551) total time=   0.1s\n",
      "[CV 4/4] END algorithm=brute, n_neighbors=160, weights=distance;, score=(train=1.000, test=0.536) total time=   0.1s\n",
      "==== LinearSVM ====\n",
      "Fitting 4 folds for each of 12 candidates, totalling 48 fits\n"
     ]
    },
    {
     "name": "stderr",
     "output_type": "stream",
     "text": [
      "/home/edrdo/.local/lib/python3.10/site-packages/sklearn/svm/_base.py:297: ConvergenceWarning: Solver terminated early (max_iter=100000).  Consider pre-processing your data with StandardScaler or MinMaxScaler.\n",
      "  warnings.warn(\n"
     ]
    },
    {
     "name": "stdout",
     "output_type": "stream",
     "text": [
      "[CV 1/4] END C=4.0, max_iter=100000;, score=(train=0.804, test=0.697) total time=   8.9s\n"
     ]
    },
    {
     "name": "stderr",
     "output_type": "stream",
     "text": [
      "/home/edrdo/.local/lib/python3.10/site-packages/sklearn/svm/_base.py:297: ConvergenceWarning: Solver terminated early (max_iter=100000).  Consider pre-processing your data with StandardScaler or MinMaxScaler.\n",
      "  warnings.warn(\n"
     ]
    },
    {
     "name": "stdout",
     "output_type": "stream",
     "text": [
      "[CV 2/4] END C=4.0, max_iter=100000;, score=(train=0.780, test=0.677) total time=   9.3s\n"
     ]
    },
    {
     "name": "stderr",
     "output_type": "stream",
     "text": [
      "/home/edrdo/.local/lib/python3.10/site-packages/sklearn/svm/_base.py:297: ConvergenceWarning: Solver terminated early (max_iter=100000).  Consider pre-processing your data with StandardScaler or MinMaxScaler.\n",
      "  warnings.warn(\n"
     ]
    },
    {
     "name": "stdout",
     "output_type": "stream",
     "text": [
      "[CV 3/4] END C=4.0, max_iter=100000;, score=(train=0.813, test=0.699) total time=   7.8s\n"
     ]
    },
    {
     "name": "stderr",
     "output_type": "stream",
     "text": [
      "/home/edrdo/.local/lib/python3.10/site-packages/sklearn/svm/_base.py:297: ConvergenceWarning: Solver terminated early (max_iter=100000).  Consider pre-processing your data with StandardScaler or MinMaxScaler.\n",
      "  warnings.warn(\n"
     ]
    },
    {
     "name": "stdout",
     "output_type": "stream",
     "text": [
      "[CV 4/4] END C=4.0, max_iter=100000;, score=(train=0.761, test=0.646) total time=   8.9s\n"
     ]
    },
    {
     "name": "stderr",
     "output_type": "stream",
     "text": [
      "/home/edrdo/.local/lib/python3.10/site-packages/sklearn/svm/_base.py:297: ConvergenceWarning: Solver terminated early (max_iter=100000).  Consider pre-processing your data with StandardScaler or MinMaxScaler.\n",
      "  warnings.warn(\n"
     ]
    },
    {
     "name": "stdout",
     "output_type": "stream",
     "text": [
      "[CV 1/4] END C=2.0, max_iter=100000;, score=(train=0.805, test=0.685) total time=   8.6s\n"
     ]
    },
    {
     "name": "stderr",
     "output_type": "stream",
     "text": [
      "/home/edrdo/.local/lib/python3.10/site-packages/sklearn/svm/_base.py:297: ConvergenceWarning: Solver terminated early (max_iter=100000).  Consider pre-processing your data with StandardScaler or MinMaxScaler.\n",
      "  warnings.warn(\n"
     ]
    },
    {
     "name": "stdout",
     "output_type": "stream",
     "text": [
      "[CV 2/4] END C=2.0, max_iter=100000;, score=(train=0.783, test=0.662) total time=   9.3s\n"
     ]
    },
    {
     "name": "stderr",
     "output_type": "stream",
     "text": [
      "/home/edrdo/.local/lib/python3.10/site-packages/sklearn/svm/_base.py:297: ConvergenceWarning: Solver terminated early (max_iter=100000).  Consider pre-processing your data with StandardScaler or MinMaxScaler.\n",
      "  warnings.warn(\n"
     ]
    },
    {
     "name": "stdout",
     "output_type": "stream",
     "text": [
      "[CV 3/4] END C=2.0, max_iter=100000;, score=(train=0.829, test=0.699) total time=   7.8s\n"
     ]
    },
    {
     "name": "stderr",
     "output_type": "stream",
     "text": [
      "/home/edrdo/.local/lib/python3.10/site-packages/sklearn/svm/_base.py:297: ConvergenceWarning: Solver terminated early (max_iter=100000).  Consider pre-processing your data with StandardScaler or MinMaxScaler.\n",
      "  warnings.warn(\n"
     ]
    },
    {
     "name": "stdout",
     "output_type": "stream",
     "text": [
      "[CV 4/4] END C=2.0, max_iter=100000;, score=(train=0.754, test=0.646) total time=   8.9s\n"
     ]
    },
    {
     "name": "stderr",
     "output_type": "stream",
     "text": [
      "/home/edrdo/.local/lib/python3.10/site-packages/sklearn/svm/_base.py:297: ConvergenceWarning: Solver terminated early (max_iter=100000).  Consider pre-processing your data with StandardScaler or MinMaxScaler.\n",
      "  warnings.warn(\n"
     ]
    },
    {
     "name": "stdout",
     "output_type": "stream",
     "text": [
      "[CV 1/4] END C=1.0, max_iter=100000;, score=(train=0.853, test=0.709) total time=   7.9s\n"
     ]
    },
    {
     "name": "stderr",
     "output_type": "stream",
     "text": [
      "/home/edrdo/.local/lib/python3.10/site-packages/sklearn/svm/_base.py:297: ConvergenceWarning: Solver terminated early (max_iter=100000).  Consider pre-processing your data with StandardScaler or MinMaxScaler.\n",
      "  warnings.warn(\n"
     ]
    },
    {
     "name": "stdout",
     "output_type": "stream",
     "text": [
      "[CV 2/4] END C=1.0, max_iter=100000;, score=(train=0.831, test=0.699) total time=   8.7s\n"
     ]
    },
    {
     "name": "stderr",
     "output_type": "stream",
     "text": [
      "/home/edrdo/.local/lib/python3.10/site-packages/sklearn/svm/_base.py:297: ConvergenceWarning: Solver terminated early (max_iter=100000).  Consider pre-processing your data with StandardScaler or MinMaxScaler.\n",
      "  warnings.warn(\n"
     ]
    },
    {
     "name": "stdout",
     "output_type": "stream",
     "text": [
      "[CV 3/4] END C=1.0, max_iter=100000;, score=(train=0.862, test=0.729) total time=   7.3s\n"
     ]
    },
    {
     "name": "stderr",
     "output_type": "stream",
     "text": [
      "/home/edrdo/.local/lib/python3.10/site-packages/sklearn/svm/_base.py:297: ConvergenceWarning: Solver terminated early (max_iter=100000).  Consider pre-processing your data with StandardScaler or MinMaxScaler.\n",
      "  warnings.warn(\n"
     ]
    },
    {
     "name": "stdout",
     "output_type": "stream",
     "text": [
      "[CV 4/4] END C=1.0, max_iter=100000;, score=(train=0.829, test=0.718) total time=   8.5s\n"
     ]
    },
    {
     "name": "stderr",
     "output_type": "stream",
     "text": [
      "/home/edrdo/.local/lib/python3.10/site-packages/sklearn/svm/_base.py:297: ConvergenceWarning: Solver terminated early (max_iter=100000).  Consider pre-processing your data with StandardScaler or MinMaxScaler.\n",
      "  warnings.warn(\n"
     ]
    },
    {
     "name": "stdout",
     "output_type": "stream",
     "text": [
      "[CV 1/4] END C=0.5, max_iter=100000;, score=(train=0.907, test=0.748) total time=   7.2s\n"
     ]
    },
    {
     "name": "stderr",
     "output_type": "stream",
     "text": [
      "/home/edrdo/.local/lib/python3.10/site-packages/sklearn/svm/_base.py:297: ConvergenceWarning: Solver terminated early (max_iter=100000).  Consider pre-processing your data with StandardScaler or MinMaxScaler.\n",
      "  warnings.warn(\n"
     ]
    },
    {
     "name": "stdout",
     "output_type": "stream",
     "text": [
      "[CV 2/4] END C=0.5, max_iter=100000;, score=(train=0.899, test=0.741) total time=   7.9s\n"
     ]
    },
    {
     "name": "stderr",
     "output_type": "stream",
     "text": [
      "/home/edrdo/.local/lib/python3.10/site-packages/sklearn/svm/_base.py:297: ConvergenceWarning: Solver terminated early (max_iter=100000).  Consider pre-processing your data with StandardScaler or MinMaxScaler.\n",
      "  warnings.warn(\n"
     ]
    },
    {
     "name": "stdout",
     "output_type": "stream",
     "text": [
      "[CV 3/4] END C=0.5, max_iter=100000;, score=(train=0.912, test=0.785) total time=   6.7s\n"
     ]
    },
    {
     "name": "stderr",
     "output_type": "stream",
     "text": [
      "/home/edrdo/.local/lib/python3.10/site-packages/sklearn/svm/_base.py:297: ConvergenceWarning: Solver terminated early (max_iter=100000).  Consider pre-processing your data with StandardScaler or MinMaxScaler.\n",
      "  warnings.warn(\n"
     ]
    },
    {
     "name": "stdout",
     "output_type": "stream",
     "text": [
      "[CV 4/4] END C=0.5, max_iter=100000;, score=(train=0.900, test=0.746) total time=   7.8s\n"
     ]
    },
    {
     "name": "stderr",
     "output_type": "stream",
     "text": [
      "/home/edrdo/.local/lib/python3.10/site-packages/sklearn/svm/_base.py:297: ConvergenceWarning: Solver terminated early (max_iter=100000).  Consider pre-processing your data with StandardScaler or MinMaxScaler.\n",
      "  warnings.warn(\n"
     ]
    },
    {
     "name": "stdout",
     "output_type": "stream",
     "text": [
      "[CV 1/4] END C=0.25, max_iter=100000;, score=(train=0.931, test=0.761) total time=   6.3s\n"
     ]
    },
    {
     "name": "stderr",
     "output_type": "stream",
     "text": [
      "/home/edrdo/.local/lib/python3.10/site-packages/sklearn/svm/_base.py:297: ConvergenceWarning: Solver terminated early (max_iter=100000).  Consider pre-processing your data with StandardScaler or MinMaxScaler.\n",
      "  warnings.warn(\n"
     ]
    },
    {
     "name": "stdout",
     "output_type": "stream",
     "text": [
      "[CV 2/4] END C=0.25, max_iter=100000;, score=(train=0.929, test=0.746) total time=   6.8s\n"
     ]
    },
    {
     "name": "stderr",
     "output_type": "stream",
     "text": [
      "/home/edrdo/.local/lib/python3.10/site-packages/sklearn/svm/_base.py:297: ConvergenceWarning: Solver terminated early (max_iter=100000).  Consider pre-processing your data with StandardScaler or MinMaxScaler.\n",
      "  warnings.warn(\n"
     ]
    },
    {
     "name": "stdout",
     "output_type": "stream",
     "text": [
      "[CV 3/4] END C=0.25, max_iter=100000;, score=(train=0.932, test=0.785) total time=   5.9s\n"
     ]
    },
    {
     "name": "stderr",
     "output_type": "stream",
     "text": [
      "/home/edrdo/.local/lib/python3.10/site-packages/sklearn/svm/_base.py:297: ConvergenceWarning: Solver terminated early (max_iter=100000).  Consider pre-processing your data with StandardScaler or MinMaxScaler.\n",
      "  warnings.warn(\n"
     ]
    },
    {
     "name": "stdout",
     "output_type": "stream",
     "text": [
      "[CV 4/4] END C=0.25, max_iter=100000;, score=(train=0.924, test=0.768) total time=   6.6s\n"
     ]
    },
    {
     "name": "stderr",
     "output_type": "stream",
     "text": [
      "/home/edrdo/.local/lib/python3.10/site-packages/sklearn/svm/_base.py:297: ConvergenceWarning: Solver terminated early (max_iter=100000).  Consider pre-processing your data with StandardScaler or MinMaxScaler.\n",
      "  warnings.warn(\n"
     ]
    },
    {
     "name": "stdout",
     "output_type": "stream",
     "text": [
      "[CV 1/4] END C=0.125, max_iter=100000;, score=(train=0.928, test=0.763) total time=   5.3s\n"
     ]
    },
    {
     "name": "stderr",
     "output_type": "stream",
     "text": [
      "/home/edrdo/.local/lib/python3.10/site-packages/sklearn/svm/_base.py:297: ConvergenceWarning: Solver terminated early (max_iter=100000).  Consider pre-processing your data with StandardScaler or MinMaxScaler.\n",
      "  warnings.warn(\n"
     ]
    },
    {
     "name": "stdout",
     "output_type": "stream",
     "text": [
      "[CV 2/4] END C=0.125, max_iter=100000;, score=(train=0.928, test=0.747) total time=   5.8s\n"
     ]
    },
    {
     "name": "stderr",
     "output_type": "stream",
     "text": [
      "/home/edrdo/.local/lib/python3.10/site-packages/sklearn/svm/_base.py:297: ConvergenceWarning: Solver terminated early (max_iter=100000).  Consider pre-processing your data with StandardScaler or MinMaxScaler.\n",
      "  warnings.warn(\n"
     ]
    },
    {
     "name": "stdout",
     "output_type": "stream",
     "text": [
      "[CV 3/4] END C=0.125, max_iter=100000;, score=(train=0.933, test=0.784) total time=   5.2s\n"
     ]
    },
    {
     "name": "stderr",
     "output_type": "stream",
     "text": [
      "/home/edrdo/.local/lib/python3.10/site-packages/sklearn/svm/_base.py:297: ConvergenceWarning: Solver terminated early (max_iter=100000).  Consider pre-processing your data with StandardScaler or MinMaxScaler.\n",
      "  warnings.warn(\n"
     ]
    },
    {
     "name": "stdout",
     "output_type": "stream",
     "text": [
      "[CV 4/4] END C=0.125, max_iter=100000;, score=(train=0.923, test=0.774) total time=   5.7s\n"
     ]
    },
    {
     "name": "stderr",
     "output_type": "stream",
     "text": [
      "/home/edrdo/.local/lib/python3.10/site-packages/sklearn/svm/_base.py:297: ConvergenceWarning: Solver terminated early (max_iter=100000).  Consider pre-processing your data with StandardScaler or MinMaxScaler.\n",
      "  warnings.warn(\n"
     ]
    },
    {
     "name": "stdout",
     "output_type": "stream",
     "text": [
      "[CV 1/4] END C=0.06, max_iter=100000;, score=(train=0.927, test=0.761) total time=   4.7s\n"
     ]
    },
    {
     "name": "stderr",
     "output_type": "stream",
     "text": [
      "/home/edrdo/.local/lib/python3.10/site-packages/sklearn/svm/_base.py:297: ConvergenceWarning: Solver terminated early (max_iter=100000).  Consider pre-processing your data with StandardScaler or MinMaxScaler.\n",
      "  warnings.warn(\n"
     ]
    },
    {
     "name": "stdout",
     "output_type": "stream",
     "text": [
      "[CV 2/4] END C=0.06, max_iter=100000;, score=(train=0.926, test=0.749) total time=   4.9s\n"
     ]
    },
    {
     "name": "stderr",
     "output_type": "stream",
     "text": [
      "/home/edrdo/.local/lib/python3.10/site-packages/sklearn/svm/_base.py:297: ConvergenceWarning: Solver terminated early (max_iter=100000).  Consider pre-processing your data with StandardScaler or MinMaxScaler.\n",
      "  warnings.warn(\n"
     ]
    },
    {
     "name": "stdout",
     "output_type": "stream",
     "text": [
      "[CV 3/4] END C=0.06, max_iter=100000;, score=(train=0.930, test=0.787) total time=   4.5s\n"
     ]
    },
    {
     "name": "stderr",
     "output_type": "stream",
     "text": [
      "/home/edrdo/.local/lib/python3.10/site-packages/sklearn/svm/_base.py:297: ConvergenceWarning: Solver terminated early (max_iter=100000).  Consider pre-processing your data with StandardScaler or MinMaxScaler.\n",
      "  warnings.warn(\n"
     ]
    },
    {
     "name": "stdout",
     "output_type": "stream",
     "text": [
      "[CV 4/4] END C=0.06, max_iter=100000;, score=(train=0.924, test=0.780) total time=   4.9s\n"
     ]
    },
    {
     "name": "stderr",
     "output_type": "stream",
     "text": [
      "/home/edrdo/.local/lib/python3.10/site-packages/sklearn/svm/_base.py:297: ConvergenceWarning: Solver terminated early (max_iter=100000).  Consider pre-processing your data with StandardScaler or MinMaxScaler.\n",
      "  warnings.warn(\n"
     ]
    },
    {
     "name": "stdout",
     "output_type": "stream",
     "text": [
      "[CV 1/4] END C=0.03, max_iter=100000;, score=(train=0.925, test=0.772) total time=   3.9s\n"
     ]
    },
    {
     "name": "stderr",
     "output_type": "stream",
     "text": [
      "/home/edrdo/.local/lib/python3.10/site-packages/sklearn/svm/_base.py:297: ConvergenceWarning: Solver terminated early (max_iter=100000).  Consider pre-processing your data with StandardScaler or MinMaxScaler.\n",
      "  warnings.warn(\n"
     ]
    },
    {
     "name": "stdout",
     "output_type": "stream",
     "text": [
      "[CV 2/4] END C=0.03, max_iter=100000;, score=(train=0.922, test=0.754) total time=   4.2s\n"
     ]
    },
    {
     "name": "stderr",
     "output_type": "stream",
     "text": [
      "/home/edrdo/.local/lib/python3.10/site-packages/sklearn/svm/_base.py:297: ConvergenceWarning: Solver terminated early (max_iter=100000).  Consider pre-processing your data with StandardScaler or MinMaxScaler.\n",
      "  warnings.warn(\n"
     ]
    },
    {
     "name": "stdout",
     "output_type": "stream",
     "text": [
      "[CV 3/4] END C=0.03, max_iter=100000;, score=(train=0.928, test=0.793) total time=   3.9s\n"
     ]
    },
    {
     "name": "stderr",
     "output_type": "stream",
     "text": [
      "/home/edrdo/.local/lib/python3.10/site-packages/sklearn/svm/_base.py:297: ConvergenceWarning: Solver terminated early (max_iter=100000).  Consider pre-processing your data with StandardScaler or MinMaxScaler.\n",
      "  warnings.warn(\n"
     ]
    },
    {
     "name": "stdout",
     "output_type": "stream",
     "text": [
      "[CV 4/4] END C=0.03, max_iter=100000;, score=(train=0.922, test=0.775) total time=   4.2s\n"
     ]
    },
    {
     "name": "stderr",
     "output_type": "stream",
     "text": [
      "/home/edrdo/.local/lib/python3.10/site-packages/sklearn/svm/_base.py:297: ConvergenceWarning: Solver terminated early (max_iter=100000).  Consider pre-processing your data with StandardScaler or MinMaxScaler.\n",
      "  warnings.warn(\n"
     ]
    },
    {
     "name": "stdout",
     "output_type": "stream",
     "text": [
      "[CV 1/4] END C=0.01, max_iter=100000;, score=(train=0.920, test=0.778) total time=   2.8s\n"
     ]
    },
    {
     "name": "stderr",
     "output_type": "stream",
     "text": [
      "/home/edrdo/.local/lib/python3.10/site-packages/sklearn/svm/_base.py:297: ConvergenceWarning: Solver terminated early (max_iter=100000).  Consider pre-processing your data with StandardScaler or MinMaxScaler.\n",
      "  warnings.warn(\n"
     ]
    },
    {
     "name": "stdout",
     "output_type": "stream",
     "text": [
      "[CV 2/4] END C=0.01, max_iter=100000;, score=(train=0.919, test=0.762) total time=   3.0s\n"
     ]
    },
    {
     "name": "stderr",
     "output_type": "stream",
     "text": [
      "/home/edrdo/.local/lib/python3.10/site-packages/sklearn/svm/_base.py:297: ConvergenceWarning: Solver terminated early (max_iter=100000).  Consider pre-processing your data with StandardScaler or MinMaxScaler.\n",
      "  warnings.warn(\n"
     ]
    },
    {
     "name": "stdout",
     "output_type": "stream",
     "text": [
      "[CV 3/4] END C=0.01, max_iter=100000;, score=(train=0.918, test=0.792) total time=   2.7s\n"
     ]
    },
    {
     "name": "stderr",
     "output_type": "stream",
     "text": [
      "/home/edrdo/.local/lib/python3.10/site-packages/sklearn/svm/_base.py:297: ConvergenceWarning: Solver terminated early (max_iter=100000).  Consider pre-processing your data with StandardScaler or MinMaxScaler.\n",
      "  warnings.warn(\n"
     ]
    },
    {
     "name": "stdout",
     "output_type": "stream",
     "text": [
      "[CV 4/4] END C=0.01, max_iter=100000;, score=(train=0.915, test=0.777) total time=   3.1s\n"
     ]
    },
    {
     "name": "stderr",
     "output_type": "stream",
     "text": [
      "/home/edrdo/.local/lib/python3.10/site-packages/sklearn/svm/_base.py:297: ConvergenceWarning: Solver terminated early (max_iter=100000).  Consider pre-processing your data with StandardScaler or MinMaxScaler.\n",
      "  warnings.warn(\n"
     ]
    },
    {
     "name": "stdout",
     "output_type": "stream",
     "text": [
      "[CV 1/4] END C=0.005, max_iter=100000;, score=(train=0.912, test=0.777) total time=   2.1s\n"
     ]
    },
    {
     "name": "stderr",
     "output_type": "stream",
     "text": [
      "/home/edrdo/.local/lib/python3.10/site-packages/sklearn/svm/_base.py:297: ConvergenceWarning: Solver terminated early (max_iter=100000).  Consider pre-processing your data with StandardScaler or MinMaxScaler.\n",
      "  warnings.warn(\n"
     ]
    },
    {
     "name": "stdout",
     "output_type": "stream",
     "text": [
      "[CV 2/4] END C=0.005, max_iter=100000;, score=(train=0.916, test=0.770) total time=   2.1s\n"
     ]
    },
    {
     "name": "stderr",
     "output_type": "stream",
     "text": [
      "/home/edrdo/.local/lib/python3.10/site-packages/sklearn/svm/_base.py:297: ConvergenceWarning: Solver terminated early (max_iter=100000).  Consider pre-processing your data with StandardScaler or MinMaxScaler.\n",
      "  warnings.warn(\n"
     ]
    },
    {
     "name": "stdout",
     "output_type": "stream",
     "text": [
      "[CV 3/4] END C=0.005, max_iter=100000;, score=(train=0.917, test=0.791) total time=   2.0s\n"
     ]
    },
    {
     "name": "stderr",
     "output_type": "stream",
     "text": [
      "/home/edrdo/.local/lib/python3.10/site-packages/sklearn/svm/_base.py:297: ConvergenceWarning: Solver terminated early (max_iter=100000).  Consider pre-processing your data with StandardScaler or MinMaxScaler.\n",
      "  warnings.warn(\n"
     ]
    },
    {
     "name": "stdout",
     "output_type": "stream",
     "text": [
      "[CV 4/4] END C=0.005, max_iter=100000;, score=(train=0.910, test=0.775) total time=   2.1s\n",
      "[CV 1/4] END C=0.001, max_iter=100000;, score=(train=0.889, test=0.767) total time=   1.0s\n",
      "[CV 2/4] END C=0.001, max_iter=100000;, score=(train=0.894, test=0.765) total time=   1.1s\n",
      "[CV 3/4] END C=0.001, max_iter=100000;, score=(train=0.901, test=0.787) total time=   1.0s\n",
      "[CV 4/4] END C=0.001, max_iter=100000;, score=(train=0.894, test=0.778) total time=   1.0s\n",
      "[CV 1/4] END C=0.0001, max_iter=100000;, score=(train=0.796, test=0.724) total time=   0.7s\n",
      "[CV 2/4] END C=0.0001, max_iter=100000;, score=(train=0.813, test=0.700) total time=   0.7s\n",
      "[CV 3/4] END C=0.0001, max_iter=100000;, score=(train=0.807, test=0.726) total time=   0.7s\n",
      "[CV 4/4] END C=0.0001, max_iter=100000;, score=(train=0.804, test=0.711) total time=   0.7s\n"
     ]
    },
    {
     "name": "stderr",
     "output_type": "stream",
     "text": [
      "/home/edrdo/.local/lib/python3.10/site-packages/sklearn/svm/_base.py:297: ConvergenceWarning: Solver terminated early (max_iter=100000).  Consider pre-processing your data with StandardScaler or MinMaxScaler.\n",
      "  warnings.warn(\n"
     ]
    },
    {
     "name": "stdout",
     "output_type": "stream",
     "text": [
      "==== MLP ====\n",
      "Fitting 4 folds for each of 24 candidates, totalling 96 fits\n",
      "[CV 1/4] END alpha=0.01, hidden_layer_sizes=[1000];, score=(train=0.762, test=0.664) total time=   3.0s\n",
      "[CV 2/4] END alpha=0.01, hidden_layer_sizes=[1000];, score=(train=0.796, test=0.646) total time=   2.8s\n",
      "[CV 3/4] END alpha=0.01, hidden_layer_sizes=[1000];, score=(train=0.785, test=0.647) total time=   2.7s\n",
      "[CV 4/4] END alpha=0.01, hidden_layer_sizes=[1000];, score=(train=0.841, test=0.680) total time=   3.2s\n",
      "[CV 1/4] END alpha=0.01, hidden_layer_sizes=[500, 500];, score=(train=0.934, test=0.698) total time=   6.4s\n",
      "[CV 2/4] END alpha=0.01, hidden_layer_sizes=[500, 500];, score=(train=0.818, test=0.664) total time=   4.7s\n",
      "[CV 3/4] END alpha=0.01, hidden_layer_sizes=[500, 500];, score=(train=0.852, test=0.667) total time=   4.7s\n",
      "[CV 4/4] END alpha=0.01, hidden_layer_sizes=[500, 500];, score=(train=0.822, test=0.693) total time=   3.5s\n",
      "[CV 1/4] END alpha=0.01, hidden_layer_sizes=[333, 334, 333];, score=(train=0.910, test=0.667) total time=   5.4s\n",
      "[CV 2/4] END alpha=0.01, hidden_layer_sizes=[333, 334, 333];, score=(train=0.934, test=0.673) total time=   6.8s\n",
      "[CV 3/4] END alpha=0.01, hidden_layer_sizes=[333, 334, 333];, score=(train=0.958, test=0.719) total time=   7.0s\n",
      "[CV 4/4] END alpha=0.01, hidden_layer_sizes=[333, 334, 333];, score=(train=0.954, test=0.707) total time=   6.5s\n",
      "[CV 1/4] END alpha=0.01, hidden_layer_sizes=[250, 250, 250, 250];, score=(train=0.882, test=0.663) total time=   5.1s\n",
      "[CV 2/4] END alpha=0.01, hidden_layer_sizes=[250, 250, 250, 250];, score=(train=0.906, test=0.679) total time=   5.3s\n",
      "[CV 3/4] END alpha=0.01, hidden_layer_sizes=[250, 250, 250, 250];, score=(train=0.957, test=0.710) total time=   6.8s\n",
      "[CV 4/4] END alpha=0.01, hidden_layer_sizes=[250, 250, 250, 250];, score=(train=0.935, test=0.701) total time=   7.7s\n",
      "[CV 1/4] END alpha=0.05, hidden_layer_sizes=[1000];, score=(train=0.753, test=0.651) total time=   1.9s\n",
      "[CV 2/4] END alpha=0.05, hidden_layer_sizes=[1000];, score=(train=0.753, test=0.651) total time=   2.1s\n",
      "[CV 3/4] END alpha=0.05, hidden_layer_sizes=[1000];, score=(train=0.787, test=0.647) total time=   2.8s\n",
      "[CV 4/4] END alpha=0.05, hidden_layer_sizes=[1000];, score=(train=0.696, test=0.603) total time=   1.4s\n",
      "[CV 1/4] END alpha=0.05, hidden_layer_sizes=[500, 500];, score=(train=0.895, test=0.665) total time=   5.9s\n",
      "[CV 2/4] END alpha=0.05, hidden_layer_sizes=[500, 500];, score=(train=0.871, test=0.661) total time=   4.6s\n",
      "[CV 3/4] END alpha=0.05, hidden_layer_sizes=[500, 500];, score=(train=0.835, test=0.661) total time=   4.1s\n",
      "[CV 4/4] END alpha=0.05, hidden_layer_sizes=[500, 500];, score=(train=0.813, test=0.675) total time=   3.5s\n",
      "[CV 1/4] END alpha=0.05, hidden_layer_sizes=[333, 334, 333];, score=(train=0.938, test=0.666) total time=   5.9s\n",
      "[CV 2/4] END alpha=0.05, hidden_layer_sizes=[333, 334, 333];, score=(train=0.919, test=0.655) total time=   5.7s\n",
      "[CV 3/4] END alpha=0.05, hidden_layer_sizes=[333, 334, 333];, score=(train=0.960, test=0.710) total time=   8.5s\n",
      "[CV 4/4] END alpha=0.05, hidden_layer_sizes=[333, 334, 333];, score=(train=0.925, test=0.691) total time=   6.9s\n",
      "[CV 1/4] END alpha=0.05, hidden_layer_sizes=[250, 250, 250, 250];, score=(train=0.825, test=0.642) total time=   4.5s\n",
      "[CV 2/4] END alpha=0.05, hidden_layer_sizes=[250, 250, 250, 250];, score=(train=0.868, test=0.688) total time=   4.5s\n",
      "[CV 3/4] END alpha=0.05, hidden_layer_sizes=[250, 250, 250, 250];, score=(train=0.876, test=0.682) total time=   4.5s\n",
      "[CV 4/4] END alpha=0.05, hidden_layer_sizes=[250, 250, 250, 250];, score=(train=0.861, test=0.667) total time=   4.7s\n",
      "[CV 1/4] END alpha=0.125, hidden_layer_sizes=[1000];, score=(train=0.888, test=0.722) total time=   4.9s\n",
      "[CV 2/4] END alpha=0.125, hidden_layer_sizes=[1000];, score=(train=0.871, test=0.706) total time=   4.2s\n",
      "[CV 3/4] END alpha=0.125, hidden_layer_sizes=[1000];, score=(train=0.677, test=0.610) total time=   1.2s\n",
      "[CV 4/4] END alpha=0.125, hidden_layer_sizes=[1000];, score=(train=0.678, test=0.595) total time=   1.2s\n",
      "[CV 1/4] END alpha=0.125, hidden_layer_sizes=[500, 500];, score=(train=0.895, test=0.670) total time=   5.2s\n",
      "[CV 2/4] END alpha=0.125, hidden_layer_sizes=[500, 500];, score=(train=0.840, test=0.664) total time=   4.1s\n",
      "[CV 3/4] END alpha=0.125, hidden_layer_sizes=[500, 500];, score=(train=0.839, test=0.662) total time=   3.7s\n",
      "[CV 4/4] END alpha=0.125, hidden_layer_sizes=[500, 500];, score=(train=0.959, test=0.706) total time=   8.2s\n",
      "[CV 1/4] END alpha=0.125, hidden_layer_sizes=[333, 334, 333];, score=(train=0.863, test=0.619) total time=   4.5s\n",
      "[CV 2/4] END alpha=0.125, hidden_layer_sizes=[333, 334, 333];, score=(train=0.924, test=0.651) total time=   4.8s\n",
      "[CV 3/4] END alpha=0.125, hidden_layer_sizes=[333, 334, 333];, score=(train=0.946, test=0.705) total time=   6.0s\n",
      "[CV 4/4] END alpha=0.125, hidden_layer_sizes=[333, 334, 333];, score=(train=0.917, test=0.677) total time=   8.0s\n",
      "[CV 1/4] END alpha=0.125, hidden_layer_sizes=[250, 250, 250, 250];, score=(train=0.871, test=0.675) total time=   6.0s\n",
      "[CV 2/4] END alpha=0.125, hidden_layer_sizes=[250, 250, 250, 250];, score=(train=0.912, test=0.678) total time=   6.5s\n",
      "[CV 3/4] END alpha=0.125, hidden_layer_sizes=[250, 250, 250, 250];, score=(train=0.944, test=0.696) total time=   5.3s\n",
      "[CV 4/4] END alpha=0.125, hidden_layer_sizes=[250, 250, 250, 250];, score=(train=0.956, test=0.692) total time=   8.0s\n",
      "[CV 1/4] END alpha=0.25, hidden_layer_sizes=[1000];, score=(train=0.818, test=0.675) total time=   3.4s\n",
      "[CV 2/4] END alpha=0.25, hidden_layer_sizes=[1000];, score=(train=0.781, test=0.641) total time=   3.4s\n",
      "[CV 3/4] END alpha=0.25, hidden_layer_sizes=[1000];, score=(train=0.687, test=0.609) total time=   1.5s\n",
      "[CV 4/4] END alpha=0.25, hidden_layer_sizes=[1000];, score=(train=0.824, test=0.686) total time=   2.8s\n",
      "[CV 1/4] END alpha=0.25, hidden_layer_sizes=[500, 500];, score=(train=0.941, test=0.702) total time=   6.6s\n",
      "[CV 2/4] END alpha=0.25, hidden_layer_sizes=[500, 500];, score=(train=0.866, test=0.671) total time=   5.0s\n",
      "[CV 3/4] END alpha=0.25, hidden_layer_sizes=[500, 500];, score=(train=0.847, test=0.666) total time=   3.7s\n",
      "[CV 4/4] END alpha=0.25, hidden_layer_sizes=[500, 500];, score=(train=0.936, test=0.702) total time=   7.3s\n",
      "[CV 1/4] END alpha=0.25, hidden_layer_sizes=[333, 334, 333];, score=(train=0.917, test=0.644) total time=   5.4s\n",
      "[CV 2/4] END alpha=0.25, hidden_layer_sizes=[333, 334, 333];, score=(train=0.965, test=0.710) total time=   7.9s\n",
      "[CV 3/4] END alpha=0.25, hidden_layer_sizes=[333, 334, 333];, score=(train=0.957, test=0.694) total time=   6.9s\n",
      "[CV 4/4] END alpha=0.25, hidden_layer_sizes=[333, 334, 333];, score=(train=0.919, test=0.689) total time=   4.7s\n",
      "[CV 1/4] END alpha=0.25, hidden_layer_sizes=[250, 250, 250, 250];, score=(train=0.938, test=0.671) total time=   5.4s\n",
      "[CV 2/4] END alpha=0.25, hidden_layer_sizes=[250, 250, 250, 250];, score=(train=0.873, test=0.676) total time=   4.1s\n",
      "[CV 3/4] END alpha=0.25, hidden_layer_sizes=[250, 250, 250, 250];, score=(train=0.966, test=0.724) total time=   7.0s\n",
      "[CV 4/4] END alpha=0.25, hidden_layer_sizes=[250, 250, 250, 250];, score=(train=0.944, test=0.688) total time=   5.7s\n",
      "[CV 1/4] END alpha=0.5, hidden_layer_sizes=[1000];, score=(train=0.834, test=0.693) total time=   2.8s\n",
      "[CV 2/4] END alpha=0.5, hidden_layer_sizes=[1000];, score=(train=0.771, test=0.654) total time=   2.1s\n",
      "[CV 3/4] END alpha=0.5, hidden_layer_sizes=[1000];, score=(train=0.749, test=0.658) total time=   1.5s\n",
      "[CV 4/4] END alpha=0.5, hidden_layer_sizes=[1000];, score=(train=0.683, test=0.602) total time=   1.3s\n",
      "[CV 1/4] END alpha=0.5, hidden_layer_sizes=[500, 500];, score=(train=0.899, test=0.687) total time=   5.6s\n",
      "[CV 2/4] END alpha=0.5, hidden_layer_sizes=[500, 500];, score=(train=0.797, test=0.660) total time=   3.2s\n",
      "[CV 3/4] END alpha=0.5, hidden_layer_sizes=[500, 500];, score=(train=0.830, test=0.652) total time=   4.0s\n",
      "[CV 4/4] END alpha=0.5, hidden_layer_sizes=[500, 500];, score=(train=0.926, test=0.711) total time=   6.3s\n",
      "[CV 1/4] END alpha=0.5, hidden_layer_sizes=[333, 334, 333];, score=(train=0.935, test=0.668) total time=   5.4s\n",
      "[CV 2/4] END alpha=0.5, hidden_layer_sizes=[333, 334, 333];, score=(train=0.961, test=0.710) total time=   6.8s\n"
     ]
    },
    {
     "name": "stdout",
     "output_type": "stream",
     "text": [
      "[CV 3/4] END alpha=0.5, hidden_layer_sizes=[333, 334, 333];, score=(train=0.944, test=0.706) total time=   6.0s\n",
      "[CV 4/4] END alpha=0.5, hidden_layer_sizes=[333, 334, 333];, score=(train=0.912, test=0.686) total time=   5.0s\n",
      "[CV 1/4] END alpha=0.5, hidden_layer_sizes=[250, 250, 250, 250];, score=(train=0.856, test=0.657) total time=   4.2s\n",
      "[CV 2/4] END alpha=0.5, hidden_layer_sizes=[250, 250, 250, 250];, score=(train=0.918, test=0.670) total time=   6.1s\n",
      "[CV 3/4] END alpha=0.5, hidden_layer_sizes=[250, 250, 250, 250];, score=(train=0.945, test=0.703) total time=   7.1s\n",
      "[CV 4/4] END alpha=0.5, hidden_layer_sizes=[250, 250, 250, 250];, score=(train=0.858, test=0.666) total time=   4.1s\n",
      "[CV 1/4] END alpha=1.0, hidden_layer_sizes=[1000];, score=(train=0.793, test=0.668) total time=   2.5s\n",
      "[CV 2/4] END alpha=1.0, hidden_layer_sizes=[1000];, score=(train=0.788, test=0.656) total time=   2.2s\n",
      "[CV 3/4] END alpha=1.0, hidden_layer_sizes=[1000];, score=(train=0.774, test=0.673) total time=   2.3s\n",
      "[CV 4/4] END alpha=1.0, hidden_layer_sizes=[1000];, score=(train=0.842, test=0.680) total time=   2.6s\n",
      "[CV 1/4] END alpha=1.0, hidden_layer_sizes=[500, 500];, score=(train=0.933, test=0.690) total time=   6.0s\n",
      "[CV 2/4] END alpha=1.0, hidden_layer_sizes=[500, 500];, score=(train=0.920, test=0.694) total time=   5.8s\n",
      "[CV 3/4] END alpha=1.0, hidden_layer_sizes=[500, 500];, score=(train=0.755, test=0.621) total time=   3.0s\n",
      "[CV 4/4] END alpha=1.0, hidden_layer_sizes=[500, 500];, score=(train=0.798, test=0.677) total time=   3.6s\n",
      "[CV 1/4] END alpha=1.0, hidden_layer_sizes=[333, 334, 333];, score=(train=0.959, test=0.695) total time=   7.9s\n",
      "[CV 2/4] END alpha=1.0, hidden_layer_sizes=[333, 334, 333];, score=(train=0.957, test=0.704) total time=   7.2s\n",
      "[CV 3/4] END alpha=1.0, hidden_layer_sizes=[333, 334, 333];, score=(train=0.954, test=0.697) total time=   7.1s\n",
      "[CV 4/4] END alpha=1.0, hidden_layer_sizes=[333, 334, 333];, score=(train=0.914, test=0.691) total time=   4.6s\n",
      "[CV 1/4] END alpha=1.0, hidden_layer_sizes=[250, 250, 250, 250];, score=(train=0.951, test=0.694) total time=   9.2s\n",
      "[CV 2/4] END alpha=1.0, hidden_layer_sizes=[250, 250, 250, 250];, score=(train=0.906, test=0.686) total time=   5.8s\n",
      "[CV 3/4] END alpha=1.0, hidden_layer_sizes=[250, 250, 250, 250];, score=(train=0.877, test=0.719) total time=   5.1s\n",
      "[CV 4/4] END alpha=1.0, hidden_layer_sizes=[250, 250, 250, 250];, score=(train=0.922, test=0.690) total time=   7.5s\n",
      "==== RandomForest ====\n",
      "Fitting 4 folds for each of 9 candidates, totalling 36 fits\n",
      "[CV 1/4] END max_depth=None, n_estimators=50;, score=(train=1.000, test=0.908) total time=   0.4s\n",
      "[CV 2/4] END max_depth=None, n_estimators=50;, score=(train=1.000, test=0.909) total time=   0.4s\n",
      "[CV 3/4] END max_depth=None, n_estimators=50;, score=(train=1.000, test=0.910) total time=   0.4s\n",
      "[CV 4/4] END max_depth=None, n_estimators=50;, score=(train=1.000, test=0.906) total time=   0.4s\n",
      "[CV 1/4] END max_depth=None, n_estimators=100;, score=(train=1.000, test=0.915) total time=   0.7s\n",
      "[CV 2/4] END max_depth=None, n_estimators=100;, score=(train=1.000, test=0.918) total time=   0.7s\n",
      "[CV 3/4] END max_depth=None, n_estimators=100;, score=(train=1.000, test=0.908) total time=   0.7s\n",
      "[CV 4/4] END max_depth=None, n_estimators=100;, score=(train=1.000, test=0.910) total time=   0.7s\n",
      "[CV 1/4] END max_depth=None, n_estimators=200;, score=(train=1.000, test=0.916) total time=   1.4s\n",
      "[CV 2/4] END max_depth=None, n_estimators=200;, score=(train=1.000, test=0.918) total time=   1.4s\n",
      "[CV 3/4] END max_depth=None, n_estimators=200;, score=(train=1.000, test=0.914) total time=   1.4s\n",
      "[CV 4/4] END max_depth=None, n_estimators=200;, score=(train=1.000, test=0.914) total time=   1.4s\n",
      "[CV 1/4] END max_depth=10, n_estimators=50;, score=(train=0.982, test=0.895) total time=   0.3s\n",
      "[CV 2/4] END max_depth=10, n_estimators=50;, score=(train=0.975, test=0.896) total time=   0.3s\n",
      "[CV 3/4] END max_depth=10, n_estimators=50;, score=(train=0.981, test=0.889) total time=   0.3s\n",
      "[CV 4/4] END max_depth=10, n_estimators=50;, score=(train=0.977, test=0.881) total time=   0.3s\n",
      "[CV 1/4] END max_depth=10, n_estimators=100;, score=(train=0.981, test=0.897) total time=   0.6s\n",
      "[CV 2/4] END max_depth=10, n_estimators=100;, score=(train=0.978, test=0.902) total time=   0.6s\n",
      "[CV 3/4] END max_depth=10, n_estimators=100;, score=(train=0.983, test=0.900) total time=   0.6s\n",
      "[CV 4/4] END max_depth=10, n_estimators=100;, score=(train=0.983, test=0.881) total time=   0.6s\n",
      "[CV 1/4] END max_depth=10, n_estimators=200;, score=(train=0.984, test=0.896) total time=   1.1s\n",
      "[CV 2/4] END max_depth=10, n_estimators=200;, score=(train=0.979, test=0.906) total time=   1.1s\n",
      "[CV 3/4] END max_depth=10, n_estimators=200;, score=(train=0.982, test=0.892) total time=   1.1s\n",
      "[CV 4/4] END max_depth=10, n_estimators=200;, score=(train=0.984, test=0.897) total time=   1.1s\n",
      "[CV 1/4] END max_depth=20, n_estimators=50;, score=(train=1.000, test=0.916) total time=   0.4s\n",
      "[CV 2/4] END max_depth=20, n_estimators=50;, score=(train=1.000, test=0.924) total time=   0.4s\n",
      "[CV 3/4] END max_depth=20, n_estimators=50;, score=(train=1.000, test=0.914) total time=   0.4s\n",
      "[CV 4/4] END max_depth=20, n_estimators=50;, score=(train=1.000, test=0.907) total time=   0.4s\n",
      "[CV 1/4] END max_depth=20, n_estimators=100;, score=(train=1.000, test=0.916) total time=   0.7s\n",
      "[CV 2/4] END max_depth=20, n_estimators=100;, score=(train=1.000, test=0.929) total time=   0.7s\n",
      "[CV 3/4] END max_depth=20, n_estimators=100;, score=(train=1.000, test=0.914) total time=   0.7s\n",
      "[CV 4/4] END max_depth=20, n_estimators=100;, score=(train=1.000, test=0.903) total time=   0.7s\n",
      "[CV 1/4] END max_depth=20, n_estimators=200;, score=(train=1.000, test=0.921) total time=   1.4s\n",
      "[CV 2/4] END max_depth=20, n_estimators=200;, score=(train=1.000, test=0.922) total time=   1.4s\n",
      "[CV 3/4] END max_depth=20, n_estimators=200;, score=(train=1.000, test=0.916) total time=   1.4s\n",
      "[CV 4/4] END max_depth=20, n_estimators=200;, score=(train=1.000, test=0.916) total time=   1.4s\n",
      "==== RBFSVM ====\n",
      "Fitting 4 folds for each of 15 candidates, totalling 60 fits\n",
      "[CV 1/4] END C=1024.0, gamma=scale, max_iter=100000;, score=(train=1.000, test=0.749) total time=   1.2s\n",
      "[CV 2/4] END C=1024.0, gamma=scale, max_iter=100000;, score=(train=1.000, test=0.755) total time=   1.2s\n",
      "[CV 3/4] END C=1024.0, gamma=scale, max_iter=100000;, score=(train=1.000, test=0.745) total time=   1.2s\n",
      "[CV 4/4] END C=1024.0, gamma=scale, max_iter=100000;, score=(train=1.000, test=0.764) total time=   1.2s\n",
      "[CV 1/4] END C=512.0, gamma=scale, max_iter=100000;, score=(train=1.000, test=0.749) total time=   1.2s\n",
      "[CV 2/4] END C=512.0, gamma=scale, max_iter=100000;, score=(train=1.000, test=0.753) total time=   1.2s\n",
      "[CV 3/4] END C=512.0, gamma=scale, max_iter=100000;, score=(train=1.000, test=0.745) total time=   1.2s\n",
      "[CV 4/4] END C=512.0, gamma=scale, max_iter=100000;, score=(train=1.000, test=0.762) total time=   1.3s\n",
      "[CV 1/4] END C=256.0, gamma=scale, max_iter=100000;, score=(train=1.000, test=0.750) total time=   1.3s\n",
      "[CV 2/4] END C=256.0, gamma=scale, max_iter=100000;, score=(train=0.999, test=0.758) total time=   1.4s\n",
      "[CV 3/4] END C=256.0, gamma=scale, max_iter=100000;, score=(train=0.999, test=0.744) total time=   1.3s\n",
      "[CV 4/4] END C=256.0, gamma=scale, max_iter=100000;, score=(train=0.999, test=0.767) total time=   1.3s\n",
      "[CV 1/4] END C=128.0, gamma=scale, max_iter=100000;, score=(train=1.000, test=0.750) total time=   1.3s\n",
      "[CV 2/4] END C=128.0, gamma=scale, max_iter=100000;, score=(train=0.999, test=0.762) total time=   1.3s\n",
      "[CV 3/4] END C=128.0, gamma=scale, max_iter=100000;, score=(train=0.999, test=0.740) total time=   1.2s\n",
      "[CV 4/4] END C=128.0, gamma=scale, max_iter=100000;, score=(train=0.997, test=0.768) total time=   1.2s\n",
      "[CV 1/4] END C=64.0, gamma=scale, max_iter=100000;, score=(train=0.997, test=0.753) total time=   1.3s\n",
      "[CV 2/4] END C=64.0, gamma=scale, max_iter=100000;, score=(train=0.995, test=0.765) total time=   1.3s\n",
      "[CV 3/4] END C=64.0, gamma=scale, max_iter=100000;, score=(train=0.996, test=0.742) total time=   1.4s\n",
      "[CV 4/4] END C=64.0, gamma=scale, max_iter=100000;, score=(train=0.992, test=0.771) total time=   1.3s\n"
     ]
    },
    {
     "name": "stdout",
     "output_type": "stream",
     "text": [
      "[CV 1/4] END C=32.0, gamma=scale, max_iter=100000;, score=(train=0.991, test=0.745) total time=   1.3s\n",
      "[CV 2/4] END C=32.0, gamma=scale, max_iter=100000;, score=(train=0.989, test=0.757) total time=   1.3s\n",
      "[CV 3/4] END C=32.0, gamma=scale, max_iter=100000;, score=(train=0.989, test=0.739) total time=   1.3s\n",
      "[CV 4/4] END C=32.0, gamma=scale, max_iter=100000;, score=(train=0.988, test=0.768) total time=   1.3s\n",
      "[CV 1/4] END C=16.0, gamma=scale, max_iter=100000;, score=(train=0.978, test=0.734) total time=   1.2s\n",
      "[CV 2/4] END C=16.0, gamma=scale, max_iter=100000;, score=(train=0.974, test=0.758) total time=   1.3s\n",
      "[CV 3/4] END C=16.0, gamma=scale, max_iter=100000;, score=(train=0.978, test=0.746) total time=   1.3s\n",
      "[CV 4/4] END C=16.0, gamma=scale, max_iter=100000;, score=(train=0.975, test=0.758) total time=   1.3s\n",
      "[CV 1/4] END C=8.0, gamma=scale, max_iter=100000;, score=(train=0.947, test=0.714) total time=   1.3s\n",
      "[CV 2/4] END C=8.0, gamma=scale, max_iter=100000;, score=(train=0.949, test=0.726) total time=   1.3s\n",
      "[CV 3/4] END C=8.0, gamma=scale, max_iter=100000;, score=(train=0.942, test=0.729) total time=   1.3s\n",
      "[CV 4/4] END C=8.0, gamma=scale, max_iter=100000;, score=(train=0.946, test=0.746) total time=   1.3s\n",
      "[CV 1/4] END C=4.0, gamma=scale, max_iter=100000;, score=(train=0.890, test=0.708) total time=   1.3s\n",
      "[CV 2/4] END C=4.0, gamma=scale, max_iter=100000;, score=(train=0.892, test=0.700) total time=   1.3s\n",
      "[CV 3/4] END C=4.0, gamma=scale, max_iter=100000;, score=(train=0.901, test=0.714) total time=   1.3s\n",
      "[CV 4/4] END C=4.0, gamma=scale, max_iter=100000;, score=(train=0.890, test=0.720) total time=   1.3s\n",
      "[CV 1/4] END C=2.0, gamma=scale, max_iter=100000;, score=(train=0.825, test=0.675) total time=   1.4s\n",
      "[CV 2/4] END C=2.0, gamma=scale, max_iter=100000;, score=(train=0.824, test=0.669) total time=   1.4s\n",
      "[CV 3/4] END C=2.0, gamma=scale, max_iter=100000;, score=(train=0.822, test=0.685) total time=   1.4s\n",
      "[CV 4/4] END C=2.0, gamma=scale, max_iter=100000;, score=(train=0.829, test=0.680) total time=   1.4s\n",
      "[CV 1/4] END C=1.5, gamma=scale, max_iter=100000;, score=(train=0.796, test=0.655) total time=   1.4s\n",
      "[CV 2/4] END C=1.5, gamma=scale, max_iter=100000;, score=(train=0.799, test=0.661) total time=   1.5s\n",
      "[CV 3/4] END C=1.5, gamma=scale, max_iter=100000;, score=(train=0.798, test=0.669) total time=   1.4s\n",
      "[CV 4/4] END C=1.5, gamma=scale, max_iter=100000;, score=(train=0.799, test=0.669) total time=   1.4s\n",
      "[CV 1/4] END C=1.0, gamma=scale, max_iter=100000;, score=(train=0.763, test=0.645) total time=   1.4s\n",
      "[CV 2/4] END C=1.0, gamma=scale, max_iter=100000;, score=(train=0.765, test=0.644) total time=   1.5s\n",
      "[CV 3/4] END C=1.0, gamma=scale, max_iter=100000;, score=(train=0.763, test=0.651) total time=   1.5s\n",
      "[CV 4/4] END C=1.0, gamma=scale, max_iter=100000;, score=(train=0.765, test=0.658) total time=   1.5s\n",
      "[CV 1/4] END C=0.5, gamma=scale, max_iter=100000;, score=(train=0.716, test=0.620) total time=   1.7s\n",
      "[CV 2/4] END C=0.5, gamma=scale, max_iter=100000;, score=(train=0.709, test=0.637) total time=   1.6s\n",
      "[CV 3/4] END C=0.5, gamma=scale, max_iter=100000;, score=(train=0.717, test=0.645) total time=   1.6s\n",
      "[CV 4/4] END C=0.5, gamma=scale, max_iter=100000;, score=(train=0.714, test=0.644) total time=   1.7s\n",
      "[CV 1/4] END C=0.25, gamma=scale, max_iter=100000;, score=(train=0.675, test=0.590) total time=   2.0s\n",
      "[CV 2/4] END C=0.25, gamma=scale, max_iter=100000;, score=(train=0.675, test=0.620) total time=   2.0s\n",
      "[CV 3/4] END C=0.25, gamma=scale, max_iter=100000;, score=(train=0.683, test=0.629) total time=   2.0s\n",
      "[CV 4/4] END C=0.25, gamma=scale, max_iter=100000;, score=(train=0.671, test=0.627) total time=   1.9s\n",
      "[CV 1/4] END C=0.125, gamma=scale, max_iter=100000;, score=(train=0.629, test=0.564) total time=   2.3s\n",
      "[CV 2/4] END C=0.125, gamma=scale, max_iter=100000;, score=(train=0.629, test=0.578) total time=   2.4s\n",
      "[CV 3/4] END C=0.125, gamma=scale, max_iter=100000;, score=(train=0.624, test=0.601) total time=   2.4s\n",
      "[CV 4/4] END C=0.125, gamma=scale, max_iter=100000;, score=(train=0.623, test=0.599) total time=   2.3s\n"
     ]
    }
   ],
   "source": [
    "model_types = {\n",
    "    \"AdaBoost\": {\n",
    "        \"estimator\":\n",
    "            sklearn.ensemble.AdaBoostClassifier(random_state=54321, algorithm=\"SAMME\"),\n",
    "        \"param_grid\": {\n",
    "            \"n_estimators\":  [200, 300, 400], \n",
    "            \"learning_rate\": [1.0, 0.75, 0.5]\n",
    "        }\n",
    "    },\n",
    "    \"DecisionTree\": {\n",
    "        \"estimator\":\n",
    "            sklearn.tree.DecisionTreeClassifier(random_state=54321),\n",
    "        \"param_grid\": {\n",
    "            \"max_features\": [None,'log2','sqrt'],\n",
    "            \"min_samples_split\": [2, 0.01, 0.02]\n",
    "        }\n",
    "    },\n",
    "    \"GradientBoost\": {\n",
    "        \"estimator\":\n",
    "            sklearn.ensemble.GradientBoostingClassifier(random_state=54321),\n",
    "        \"param_grid\": {\n",
    "            \"n_estimators\":  [50, 100], \n",
    "            \"learning_rate\": [0.1, 0.2]\n",
    "        }\n",
    "    },\n",
    "    \"KNN\": {\n",
    "        \"estimator\": \n",
    "            sklearn.neighbors.KNeighborsClassifier(),\n",
    "        \"param_grid\": { \n",
    "            \"n_neighbors\":  [5, 20, 80, 160], \n",
    "            \"weights\": [\"uniform\", \"distance\"], \n",
    "            \"algorithm\": [\"ball_tree\", \"kd_tree\", \"brute\" ] \n",
    "        },\n",
    "    },\n",
    "    \"LinearSVM\":  {\n",
    "        \"estimator\": \n",
    "            sklearn.svm.SVC(kernel=\"linear\", random_state=54321, probability=True),\n",
    "        \"param_grid\": { \n",
    "            \"C\":  [4.0, 2.0, 1.0, 0.5, 0.25, 0.125, 0.06, 0.03, 0.01, 0.005, 0.001, 0.0001],\n",
    "            \"max_iter\": [100000]\n",
    "        },\n",
    "    },\n",
    "    \"MLP\": {\n",
    "        \"estimator\": \n",
    "            sklearn.neural_network.MLPClassifier(random_state=54321, early_stopping=True, max_iter=100),\n",
    "        \"param_grid\": { \n",
    "            \"hidden_layer_sizes\":  [[1000], [500,500],[333,334,333],[250,250,250,250]],\n",
    "            \"alpha\": [0.01, 0.05, 0.125, 0.25, 0.5, 1.0]\n",
    "        },\n",
    "    },\n",
    "    \"RandomForest\":  {\n",
    "        \"estimator\": \n",
    "            sklearn.ensemble.RandomForestClassifier(random_state=54321),\n",
    "        \"param_grid\": { \n",
    "            \"n_estimators\":  [50, 100, 200], \n",
    "            \"max_depth\": [None, 10, 20] \n",
    "        },\n",
    "    },\n",
    "    \"RBFSVM\":  {\n",
    "        \"estimator\": \n",
    "            sklearn.svm.SVC(kernel=\"rbf\", random_state=54321, probability=True),\n",
    "        \"param_grid\": { \n",
    "            \"C\":  [1024.0, 512.0, 256.0, 128.0, 64.0, 32.0, 16.0, 8.0, 4.0, 2.0, 1.5, 1.0, 0.5, 0.25, 0.125],\n",
    "            \"gamma\": ['scale'],\n",
    "            \"max_iter\": [100000]\n",
    "        },\n",
    "    }  \n",
    "}\n",
    "K_FOLD_SPLITS = 4\n",
    "MODEL_FILTER = ''\n",
    "SOURCE_FILTER = None\n",
    "SUFFIX = ''\n",
    "\n",
    "if SOURCE_FILTER != None:\n",
    "    SUFFIX = '_' + SOURCE_FILTER\n",
    "    train_data = train_data[train_data.source == SOURCE_FILTER]\n",
    "    \n",
    "X = train_data.drop(columns=['time','source','label'])\n",
    "y = train_data['label']\n",
    "cv_k_fold = sklearn.model_selection.KFold(n_splits=K_FOLD_SPLITS, shuffle=True, random_state=12345)\n",
    "                                    \n",
    "model_summary = []\n",
    "for name,prop in model_types.items():\n",
    "    if MODEL_FILTER == None or MODEL_FILTER in name:\n",
    "        print(\"====\", name, \"====\")\n",
    "        gs = sklearn.model_selection.GridSearchCV(\n",
    "            prop[\"estimator\"],\n",
    "            cv = cv_k_fold,\n",
    "            param_grid = prop[\"param_grid\"],\n",
    "            return_train_score=True,\n",
    "            verbose=3\n",
    "        )\n",
    "        gs.fit(X,y)\n",
    "\n",
    "        with open(os.path.join('models/brssi/', name + SUFFIX + \".pkl\"), 'wb') as output_file:\n",
    "            pickle.dump(gs.best_estimator_, output_file)\n",
    "            model_summary.append([\n",
    "                name,\n",
    "                gs.best_score_, gs.best_estimator_ , gs.best_params_\n",
    "            ])"
   ]
  },
  {
   "cell_type": "code",
   "execution_count": 4,
   "id": "ba8c2ddb",
   "metadata": {},
   "outputs": [
    {
     "data": {
      "text/plain": [
       "[['AdaBoost',\n",
       "  0.6995610041623309,\n",
       "  AdaBoostClassifier(algorithm='SAMME', n_estimators=400, random_state=54321),\n",
       "  {'learning_rate': 1.0, 'n_estimators': 400}],\n",
       " ['DecisionTree',\n",
       "  0.7383584807492196,\n",
       "  DecisionTreeClassifier(random_state=54321),\n",
       "  {'max_features': None, 'min_samples_split': 2}],\n",
       " ['GradientBoost',\n",
       "  0.898466224419008,\n",
       "  GradientBoostingClassifier(learning_rate=0.2, random_state=54321),\n",
       "  {'learning_rate': 0.2, 'n_estimators': 100}],\n",
       " ['KNN',\n",
       "  0.5797964360041623,\n",
       "  KNeighborsClassifier(algorithm='ball_tree', n_neighbors=20),\n",
       "  {'algorithm': 'ball_tree', 'n_neighbors': 20, 'weights': 'uniform'}],\n",
       " ['LinearSVM',\n",
       "  0.7781829908081859,\n",
       "  SVC(C=0.005, kernel='linear', max_iter=100000, probability=True,\n",
       "      random_state=54321),\n",
       "  {'C': 0.005, 'max_iter': 100000}],\n",
       " ['MLP',\n",
       "  0.6972150862816511,\n",
       "  MLPClassifier(alpha=1.0, early_stopping=True,\n",
       "                hidden_layer_sizes=[250, 250, 250, 250], max_iter=100,\n",
       "                random_state=54321),\n",
       "  {'alpha': 1.0, 'hidden_layer_sizes': [250, 250, 250, 250]}],\n",
       " ['RandomForest',\n",
       "  0.9185101781997919,\n",
       "  RandomForestClassifier(max_depth=20, n_estimators=200, random_state=54321),\n",
       "  {'max_depth': 20, 'n_estimators': 200}],\n",
       " ['RBFSVM',\n",
       "  0.7576163067984738,\n",
       "  SVC(C=64.0, max_iter=100000, probability=True, random_state=54321),\n",
       "  {'C': 64.0, 'gamma': 'scale', 'max_iter': 100000}]]"
      ]
     },
     "execution_count": 4,
     "metadata": {},
     "output_type": "execute_result"
    }
   ],
   "source": [
    "model_summary"
   ]
  }
 ],
 "metadata": {
  "kernelspec": {
   "display_name": "Python 3 (ipykernel)",
   "language": "python",
   "name": "python3"
  },
  "language_info": {
   "codemirror_mode": {
    "name": "ipython",
    "version": 3
   },
   "file_extension": ".py",
   "mimetype": "text/x-python",
   "name": "python",
   "nbconvert_exporter": "python",
   "pygments_lexer": "ipython3",
   "version": "3.10.13"
  }
 },
 "nbformat": 4,
 "nbformat_minor": 5
}
