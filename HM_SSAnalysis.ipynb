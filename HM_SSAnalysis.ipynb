{
 "cells": [
  {
   "cell_type": "markdown",
   "id": "5501686a",
   "metadata": {},
   "source": [
    "## Python imports"
   ]
  },
  {
   "cell_type": "code",
   "execution_count": 1,
   "id": "e4575653",
   "metadata": {},
   "outputs": [],
   "source": [
    "import numpy as np\n",
    "import pandas as pd\n",
    "from scipy.stats import friedmanchisquare, wilcoxon\n",
    "from statsmodels.stats.multitest import multipletests\n",
    "import matplotlib.pyplot as plt\n",
    "from math import sqrt\n",
    "import scikit_posthocs as sp"
   ]
  },
  {
   "cell_type": "markdown",
   "id": "ecb35c10",
   "metadata": {},
   "source": [
    "## Read data for statistical tests"
   ]
  },
  {
   "cell_type": "code",
   "execution_count": 2,
   "id": "8315058c",
   "metadata": {},
   "outputs": [
    {
     "name": "stdout",
     "output_type": "stream",
     "text": [
      "TS SoftVoting 941 0.9766206163655685\n",
      "TS KNN 941 0.9766206163655685\n",
      "TS LogisticRegression 941 0.9776833156216791\n",
      "TS RandomForest 941 0.9617428267800212\n",
      "TS BRSSI 941 0.9202975557917109\n",
      "TS CNN 941 0.8618490967056323\n",
      "PW SoftVoting 363 0.8181818181818182\n",
      "PW KNN 363 0.8539944903581267\n",
      "PW LogisticRegression 363 0.859504132231405\n",
      "PW RandomForest 363 0.8402203856749312\n",
      "PW BRSSI 363 0.8484848484848485\n",
      "PW CNN 363 0.5674931129476584\n",
      "RW SoftVoting 446 0.9125560538116592\n",
      "RW KNN 446 0.9013452914798207\n",
      "RW LogisticRegression 446 0.9080717488789237\n",
      "RW RandomForest 446 0.8609865470852018\n",
      "RW BRSSI 446 0.8183856502242153\n",
      "RW CNN 446 0.6883408071748879\n"
     ]
    }
   ],
   "source": [
    "data_samples = dict()\n",
    "MODEL_DATA_PREFIX = {\n",
    "    'SoftVoting': 'results/hybrid/SoftVoting',\n",
    "    'KNN': 'results/hybrid/KNN',\n",
    "    'LogisticRegression': 'results/hybrid/LogisticRegression',\n",
    "    'RandomForest': 'results/hybrid/RandomForest',\n",
    "    'BRSSI': 'results/brssi/RandomForest',\n",
    "    'CNN': 'results/vision/MobileNetV2'\n",
    "}\n",
    "MODELS = list(MODEL_DATA_PREFIX.keys())\n",
    "DATASETS = ['TS', 'PW', 'RW']\n",
    "LEN = {'TS': 941, 'PW': 363, 'RW': 446}\n",
    "#r = []\n",
    "for d in DATASETS:\n",
    "    data_samples[d] = dict()\n",
    "    bdf_defined = False\n",
    "    for m in MODELS:\n",
    "        df = pd.read_csv(MODEL_DATA_PREFIX[m] + '_' + d + '.tsv', sep='\\t')\n",
    "        if bdf_defined == False:\n",
    "            bdf = df\n",
    "            bdf_defined = True\n",
    "        samples = (df['label'] == df['prediction']).astype(float)[:LEN[d]]\n",
    "        print(d,m,len(samples),samples.mean())\n",
    "        data_samples[d][m] = samples"
   ]
  },
  {
   "cell_type": "markdown",
   "id": "b1ff7fe9",
   "metadata": {},
   "source": [
    "## Friedman test"
   ]
  },
  {
   "cell_type": "code",
   "execution_count": 3,
   "id": "91c68175",
   "metadata": {},
   "outputs": [
    {
     "name": "stdout",
     "output_type": "stream",
     "text": [
      "    SoftVoting       KNN  LogisticRegression  RandomForest     BRSSI       CNN\n",
      "TS    0.976621  0.976621            0.977683      0.961743  0.920298  0.861849\n",
      "PW    0.818182  0.853994            0.859504      0.840220  0.848485  0.567493\n",
      "RW    0.912556  0.901345            0.908072      0.860987  0.818386  0.688341\n",
      "Friedman test statistic = 11.538, p = 0.04169\n"
     ]
    }
   ],
   "source": [
    "avg_acc = pd.DataFrame({\n",
    "    ds: [np.mean(data_samples[ds][m]) for m in MODELS]\n",
    "    for ds in data_samples\n",
    "}, index=MODELS).T\n",
    "print(avg_acc)\n",
    "stat, p_omnibus = friedmanchisquare(*(avg_acc[m] for m in MODELS))\n",
    "print(f\"Friedman test statistic = {stat:.3f}, p = {p_omnibus:.5f}\")"
   ]
  },
  {
   "cell_type": "markdown",
   "id": "d97eb826",
   "metadata": {},
   "source": [
    "## Post-hoc Wilcoxon tests on per-sample accuracies"
   ]
  },
  {
   "cell_type": "code",
   "execution_count": 6,
   "id": "488ea21d",
   "metadata": {},
   "outputs": [
    {
     "name": "stdout",
     "output_type": "stream",
     "text": [
      "\n",
      "Post-hoc pairwise comparisons (raw p-values):\n",
      "                             Comparison  Wilcoxon W         p-raw  Reject H0\n",
      "0                    SoftVoting vs KNN      1100.5  3.389798e-01      False\n",
      "1     SoftVoting vs LogisticRegression       756.0  7.540356e-02      False\n",
      "2           SoftVoting vs RandomForest      2296.0  5.913164e-03       True\n",
      "3                  SoftVoting vs BRSSI     13531.5  4.704578e-07       True\n",
      "4                    SoftVoting vs CNN     20944.0  7.807004e-43       True\n",
      "5            KNN vs LogisticRegression        57.0  1.572992e-01      False\n",
      "6                  KNN vs RandomForest      1632.0  2.317407e-04       True\n",
      "7                         KNN vs BRSSI     12059.5  2.156643e-08       True\n",
      "8                           KNN vs CNN     20640.0  1.062829e-44       True\n",
      "9   LogisticRegression vs RandomForest      1400.0  1.548579e-05       True\n",
      "10         LogisticRegression vs BRSSI     11214.0  1.869413e-09       True\n",
      "11           LogisticRegression vs CNN     18960.0  5.829730e-47       True\n",
      "12               RandomForest vs BRSSI     18573.0  1.523617e-03       True\n",
      "13                 RandomForest vs CNN     27720.0  5.887652e-34       True\n",
      "14                        BRSSI vs CNN     42880.0  1.468461e-20       True\n",
      "{'KNN', 'LogisticRegression', 'SoftVoting'}\n",
      "{'RandomForest'}\n",
      "{'BRSSI'}\n",
      "{'CNN'}\n"
     ]
    },
    {
     "data": {
      "image/png": "[encoded data removed]",
      "text/plain": [
       "<Figure size 720x216 with 1 Axes>"
      ]
     },
     "metadata": {
      "needs_background": "light"
     },
     "output_type": "display_data"
    }
   ],
   "source": [
    "results = []\n",
    "comparisons = []\n",
    "for i in range(len(MODELS)):\n",
    "    for j in range(i+1, len(MODELS)):\n",
    "        acc1 = np.concatenate([data_samples[ds][MODELS[i]] for ds in data_samples])\n",
    "        acc2 = np.concatenate([data_samples[ds][MODELS[j]] for ds in data_samples])\n",
    "        #print(i,j,len(acc1),len(acc2))\n",
    "        try:\n",
    "            stat_w, p = wilcoxon(acc1, acc2)\n",
    "        except ValueError:\n",
    "            stat_w, p = np.nan, 1.0\n",
    "        reject = p < 0.05\n",
    "        results.append({\n",
    "            \"Comparison\": f\"{MODELS[i]} vs {MODELS[j]}\",\n",
    "            \"Wilcoxon W\": stat_w,\n",
    "            \"p-raw\": p,\n",
    "            \"Reject H0\": reject\n",
    "        })\n",
    "        comparisons.append(((MODELS[i], MODELS[j]), reject))\n",
    "\n",
    "results_df = pd.DataFrame(results)\n",
    "print(\"\\nPost-hoc pairwise comparisons (raw p-values):\\n\", results_df)\n",
    "\n",
    "# -------------------------\n",
    "# 4. Critical Difference Diagram\n",
    "# -------------------------\n",
    "ranks = avg_acc.rank(axis=1, ascending=False)\n",
    "avg_ranks = ranks.mean().sort_values()\n",
    "\n",
    "# Build clusters: models not significantly different\n",
    "nonsig_pairs = [pair for pair, reject in comparisons if not reject]\n",
    "clusters = []\n",
    "for model in avg_ranks.index:\n",
    "    placed = False\n",
    "    for cluster in clusters:\n",
    "        if any(((model, m) in nonsig_pairs or (m, model) in nonsig_pairs) for m in cluster):\n",
    "            cluster.add(model)\n",
    "            placed = True\n",
    "            break\n",
    "    if not placed:\n",
    "        clusters.append(set([model]))\n",
    "\n",
    "\n",
    "font = {'family' : 'normal', 'size'   : 12}\n",
    "plt.rc('font', **font)\n",
    "plt.figure(figsize=(10, 3))\n",
    "y = 1\n",
    "plt.scatter(avg_ranks, [y]*len(avg_ranks), s=100, zorder=3, color='black')\n",
    "for model, x in avg_ranks.items():\n",
    "    plt.text(x, y+0.05, model, ha=\"center\", va=\"bottom\", rotation=45)\n",
    "\n",
    "plt.hlines(y, min(avg_ranks)-0.5, max(avg_ranks)+0.5, colors=\"gray\", linestyles=\"dotted\")\n",
    "\n",
    "# Draw clusters\n",
    "cluster_y = y - 0.1\n",
    "for cluster in clusters:\n",
    "    print(cluster)\n",
    "    if len(cluster) > 1:\n",
    "        x1 = min(avg_ranks[list(cluster)])\n",
    "        x2 = max(avg_ranks[list(cluster)])\n",
    "        plt.plot([x1, x2], [cluster_y, cluster_y], color=\"black\", lw=2)\n",
    "        cluster_y -= 0.1\n",
    "\n",
    "# -------------------------\n",
    "# 5. Compute Critical Difference bar (configurable alpha)\n",
    "# -------------------------\n",
    "alpha = 0.05  # change to 0.01 or 0.10 if desired\n",
    "k = len(MODELS)\n",
    "N = len(data_samples)\n",
    "\n",
    "# Use scikit-posthocs Nemenyi for CD calculation\n",
    "nemenyi = sp.posthoc_nemenyi_friedman(avg_acc.values)\n",
    "\n",
    "# For now, we fallback to standard q_alpha approximations\n",
    "if alpha == 0.05:\n",
    "    q_alpha_val = 2.569\n",
    "elif alpha == 0.10:\n",
    "    q_alpha_val = 2.291\n",
    "elif alpha == 0.01:\n",
    "    q_alpha_val = 3.113\n",
    "else:\n",
    "    q_alpha_val = 2.569  # default to 0.05 table value\n",
    "\n",
    "CD = q_alpha_val * sqrt(k * (k+1) / (6.0 * N))\n",
    "\n",
    "x_start = max(avg_ranks) + 0.5\n",
    "plt.plot([x_start, x_start - CD], [y+0.3, y+0.3], color=\"white\", lw=2)\n",
    "#plt.text(x_start - CD/2, y+0.35, f\"CD = {CD:.2f} (alpha={alpha})\", ha=\"center\", va=\"bottom\")\n",
    "\n",
    "#plt.title(\"Critical Difference Diagram (sample-level, configurable alpha)\")\n",
    "plt.xlabel(\"Average Rank\")\n",
    "plt.yticks([])\n",
    "#plt.show()\n",
    "plt.tight_layout()\n",
    "plt.savefig('hm_statistical_analysis.pdf')"
   ]
  }
 ],
 "metadata": {
  "kernelspec": {
   "display_name": "Python 3 (ipykernel)",
   "language": "python",
   "name": "python3"
  },
  "language_info": {
   "codemirror_mode": {
    "name": "ipython",
    "version": 3
   },
   "file_extension": ".py",
   "mimetype": "text/x-python",
   "name": "python",
   "nbconvert_exporter": "python",
   "pygments_lexer": "ipython3",
   "version": "3.10.13"
  }
 },
 "nbformat": 4,
 "nbformat_minor": 5
}
