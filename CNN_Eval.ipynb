{
 "cells": [
  {
   "cell_type": "markdown",
   "metadata": {
    "id": "12Y1eMYko_3A"
   },
   "source": [
    "# CNN model evaluation\n",
    "\n"
   ]
  },
  {
   "cell_type": "markdown",
   "metadata": {},
   "source": [
    "## Python imports"
   ]
  },
  {
   "cell_type": "code",
   "execution_count": 1,
   "metadata": {
    "colab": {
     "base_uri": "https://localhost:8080/"
    },
    "id": "5vtEv2d4oxJb",
    "outputId": "a7952ffe-ddf1-423f-d484-3247024f1deb"
   },
   "outputs": [
    {
     "name": "stderr",
     "output_type": "stream",
     "text": [
      "2025-07-14 15:44:56.508140: I tensorflow/tsl/cuda/cudart_stub.cc:28] Could not find cuda drivers on your machine, GPU will not be used.\n",
      "2025-07-14 15:44:56.721002: I tensorflow/tsl/cuda/cudart_stub.cc:28] Could not find cuda drivers on your machine, GPU will not be used.\n",
      "2025-07-14 15:44:56.722500: I tensorflow/core/platform/cpu_feature_guard.cc:182] This TensorFlow binary is optimized to use available CPU instructions in performance-critical operations.\n",
      "To enable the following instructions: AVX2 FMA, in other operations, rebuild TensorFlow with the appropriate compiler flags.\n",
      "2025-07-14 15:44:57.624992: W tensorflow/compiler/tf2tensorrt/utils/py_utils.cc:38] TF-TRT Warning: Could not find TensorRT\n"
     ]
    }
   ],
   "source": [
    "from keras.preprocessing.image import ImageDataGenerator\n",
    "import matplotlib.pyplot as pyplt\n",
    "import matplotlib.ticker\n",
    "import pandas as pd\n",
    "import sklearn.model_selection\n",
    "import tensorflow as tf\n",
    "import tensorflow_hub as hub\n",
    "import time\n",
    "import TFLite"
   ]
  },
  {
   "cell_type": "markdown",
   "metadata": {},
   "source": [
    "## Read test data sets"
   ]
  },
  {
   "cell_type": "code",
   "execution_count": 2,
   "metadata": {},
   "outputs": [
    {
     "name": "stdout",
     "output_type": "stream",
     "text": [
      "Found 941 validated image filenames belonging to 21 classes.\n",
      "Found 374 validated image filenames belonging to 21 classes.\n",
      "Found 539 validated image filenames belonging to 21 classes.\n"
     ]
    }
   ],
   "source": [
    "DATASET_IDS = ['TS', 'PW', 'RW']\n",
    "#DATASET_IDS = ['TS',  'PTS', 'RTS', 'PW',  'RW']\n",
    "MODELS = [ \n",
    "    'InceptionV1', \n",
    "    'InceptionV2', \n",
    "    'MobileNetV1', \n",
    "    'MobileNetV2', \n",
    "    'MobileNetV3', \n",
    "    'NasNetMobile', \n",
    "    'ResNetV1', \n",
    "    'ResNetV2']\n",
    "\n",
    "#MODELS = [ \n",
    "#    'MobileNetV1', \n",
    "#    'MobileNetV1_Pixel', \n",
    "#    'MobileNetV1_Redmi'\n",
    "#]\n",
    "\n",
    "datagen = ImageDataGenerator(rescale=1.0/255.0)\n",
    "P_DIM=224\n",
    "P_BATCH_SIZE=32\n",
    "DATASETS = {\n",
    "    id : datagen.flow_from_dataframe(\n",
    "        pd.read_csv('datasets/vision/'+id+'.tsv', sep='\\t'),\n",
    "        target_size=(P_DIM,P_DIM),\n",
    "        batch_size=P_BATCH_SIZE,\n",
    "        class_mode='sparse',\n",
    "        shuffle=False,\n",
    "        x_col='image',\n",
    "        y_col='label'\n",
    "    ) for id in DATASET_IDS\n",
    "}"
   ]
  },
  {
   "cell_type": "markdown",
   "metadata": {},
   "source": [
    "## Derive results"
   ]
  },
  {
   "cell_type": "code",
   "execution_count": 3,
   "metadata": {
    "scrolled": true
   },
   "outputs": [
    {
     "name": "stdout",
     "output_type": "stream",
     "text": [
      "30/30 [==============================] - 11s 331ms/step - loss: 0.4305 - accuracy: 0.8757\n",
      "12/12 [==============================] - 4s 334ms/step - loss: 1.4528 - accuracy: 0.6471\n",
      "17/17 [==============================] - 6s 342ms/step - loss: 0.8440 - accuracy: 0.7607\n",
      "['InceptionV1', 0.8756641745567322, 0.6470588445663452, 0.7606679201126099]\n",
      "30/30 [==============================] - 13s 424ms/step - loss: 0.4625 - accuracy: 0.8640\n",
      "12/12 [==============================] - 5s 424ms/step - loss: 1.6341 - accuracy: 0.6203\n",
      "17/17 [==============================] - 7s 421ms/step - loss: 0.8896 - accuracy: 0.7440\n",
      "['InceptionV2', 0.8639745116233826, 0.6203208565711975, 0.7439703345298767]\n",
      "30/30 [==============================] - 8s 237ms/step - loss: 0.2956 - accuracy: 0.9118\n",
      "12/12 [==============================] - 3s 234ms/step - loss: 1.6400 - accuracy: 0.6738\n",
      "17/17 [==============================] - 4s 243ms/step - loss: 0.7679 - accuracy: 0.7885\n",
      "['MobileNetV1', 0.911795973777771, 0.6737967729568481, 0.7884972095489502]\n",
      "30/30 [==============================] - 8s 242ms/step - loss: 0.3943 - accuracy: 0.8852\n",
      "12/12 [==============================] - 3s 249ms/step - loss: 1.8959 - accuracy: 0.6176\n",
      "17/17 [==============================] - 5s 273ms/step - loss: 0.9476 - accuracy: 0.7458\n",
      "['MobileNetV2', 0.8852284550666809, 0.6176470518112183, 0.7458255887031555]\n",
      "30/30 [==============================] - 6s 184ms/step - loss: 0.3478 - accuracy: 0.8990\n",
      "12/12 [==============================] - 2s 187ms/step - loss: 1.5996 - accuracy: 0.6818\n",
      "17/17 [==============================] - 3s 193ms/step - loss: 0.8102 - accuracy: 0.7792\n",
      "['MobileNetV3', 0.8990435600280762, 0.6818181872367859, 0.7792207598686218]\n",
      "30/30 [==============================] - 12s 329ms/step - loss: 0.5597 - accuracy: 0.8342\n",
      "12/12 [==============================] - 4s 331ms/step - loss: 1.7594 - accuracy: 0.6176\n",
      "17/17 [==============================] - 6s 338ms/step - loss: 1.1059 - accuracy: 0.7217\n",
      "['NasNetMobile', 0.8342189192771912, 0.6176470518112183, 0.7217068672180176]\n",
      "30/30 [==============================] - 25s 799ms/step - loss: 0.3396 - accuracy: 0.9065\n",
      "12/12 [==============================] - 10s 783ms/step - loss: 1.9662 - accuracy: 0.6471\n",
      "17/17 [==============================] - 14s 798ms/step - loss: 1.0151 - accuracy: 0.7551\n",
      "['ResNetV1', 0.906482458114624, 0.6470588445663452, 0.7551020383834839]\n",
      "30/30 [==============================] - 27s 887ms/step - loss: 0.4158 - accuracy: 0.8905\n",
      "12/12 [==============================] - 11s 869ms/step - loss: 1.8675 - accuracy: 0.6551\n",
      "17/17 [==============================] - 16s 910ms/step - loss: 0.9157 - accuracy: 0.7681\n",
      "['ResNetV2', 0.8905419707298279, 0.6550801992416382, 0.7680890560150146]\n"
     ]
    },
    {
     "data": {
      "text/html": [
       "<div>\n",
       "<style scoped>\n",
       "    .dataframe tbody tr th:only-of-type {\n",
       "        vertical-align: middle;\n",
       "    }\n",
       "\n",
       "    .dataframe tbody tr th {\n",
       "        vertical-align: top;\n",
       "    }\n",
       "\n",
       "    .dataframe thead th {\n",
       "        text-align: right;\n",
       "    }\n",
       "</style>\n",
       "<table border=\"1\" class=\"dataframe\">\n",
       "  <thead>\n",
       "    <tr style=\"text-align: right;\">\n",
       "      <th></th>\n",
       "      <th>Model</th>\n",
       "      <th>TS</th>\n",
       "      <th>PW</th>\n",
       "      <th>RW</th>\n",
       "    </tr>\n",
       "  </thead>\n",
       "  <tbody>\n",
       "    <tr>\n",
       "      <th>0</th>\n",
       "      <td>InceptionV1</td>\n",
       "      <td>0.875664</td>\n",
       "      <td>0.647059</td>\n",
       "      <td>0.760668</td>\n",
       "    </tr>\n",
       "    <tr>\n",
       "      <th>1</th>\n",
       "      <td>InceptionV2</td>\n",
       "      <td>0.863975</td>\n",
       "      <td>0.620321</td>\n",
       "      <td>0.743970</td>\n",
       "    </tr>\n",
       "    <tr>\n",
       "      <th>2</th>\n",
       "      <td>MobileNetV1</td>\n",
       "      <td>0.911796</td>\n",
       "      <td>0.673797</td>\n",
       "      <td>0.788497</td>\n",
       "    </tr>\n",
       "    <tr>\n",
       "      <th>3</th>\n",
       "      <td>MobileNetV2</td>\n",
       "      <td>0.885228</td>\n",
       "      <td>0.617647</td>\n",
       "      <td>0.745826</td>\n",
       "    </tr>\n",
       "    <tr>\n",
       "      <th>4</th>\n",
       "      <td>MobileNetV3</td>\n",
       "      <td>0.899044</td>\n",
       "      <td>0.681818</td>\n",
       "      <td>0.779221</td>\n",
       "    </tr>\n",
       "    <tr>\n",
       "      <th>5</th>\n",
       "      <td>NasNetMobile</td>\n",
       "      <td>0.834219</td>\n",
       "      <td>0.617647</td>\n",
       "      <td>0.721707</td>\n",
       "    </tr>\n",
       "    <tr>\n",
       "      <th>6</th>\n",
       "      <td>ResNetV1</td>\n",
       "      <td>0.906482</td>\n",
       "      <td>0.647059</td>\n",
       "      <td>0.755102</td>\n",
       "    </tr>\n",
       "    <tr>\n",
       "      <th>7</th>\n",
       "      <td>ResNetV2</td>\n",
       "      <td>0.890542</td>\n",
       "      <td>0.655080</td>\n",
       "      <td>0.768089</td>\n",
       "    </tr>\n",
       "  </tbody>\n",
       "</table>\n",
       "</div>"
      ],
      "text/plain": [
       "          Model        TS        PW        RW\n",
       "0   InceptionV1  0.875664  0.647059  0.760668\n",
       "1   InceptionV2  0.863975  0.620321  0.743970\n",
       "2   MobileNetV1  0.911796  0.673797  0.788497\n",
       "3   MobileNetV2  0.885228  0.617647  0.745826\n",
       "4   MobileNetV3  0.899044  0.681818  0.779221\n",
       "5  NasNetMobile  0.834219  0.617647  0.721707\n",
       "6      ResNetV1  0.906482  0.647059  0.755102\n",
       "7      ResNetV2  0.890542  0.655080  0.768089"
      ]
     },
     "execution_count": 3,
     "metadata": {},
     "output_type": "execute_result"
    }
   ],
   "source": [
    "results = []\n",
    "for m in MODELS:\n",
    "    model = tf.keras.models.load_model('models/vision/' + m )\n",
    "    r = [m]\n",
    "    for d,ds in DATASETS.items():\n",
    "        loss, acc = model.evaluate(ds)\n",
    "        r.append(acc)\n",
    "    print(r)\n",
    "    results.append(r)\n",
    "plot_data = pd.DataFrame(results, columns=['Model'] + DATASET_IDS)\n",
    "plot_data"
   ]
  },
  {
   "cell_type": "markdown",
   "metadata": {},
   "source": [
    "## Derive plots"
   ]
  },
  {
   "cell_type": "code",
   "execution_count": 5,
   "metadata": {},
   "outputs": [
    {
     "data": {
      "image/png": "[encoded data removed]",
      "text/plain": [
       "<Figure size 576x576 with 1 Axes>"
      ]
     },
     "metadata": {
      "needs_background": "light"
     },
     "output_type": "display_data"
    }
   ],
   "source": [
    "font = {'family' : 'normal',\n",
    "        'size'   : 12}\n",
    "pyplt.rc('font', **font)\n",
    "pyplt.rcParams[\"figure.figsize\"] = (8,8)\n",
    "\n",
    "plt = plot_data.plot.barh(x='Model',y=DATASET_IDS,color=['black','gray','gainsboro','darkgray','lightgray'],width=0.9)\n",
    "plt.legend(loc='upper center',ncol=5,bbox_to_anchor=(0.5,-0.1))\n",
    "plt.set_xlim([0.3,1.0])\n",
    "plt.invert_yaxis()\n",
    "plt.set_ylabel('')\n",
    "plt.grid(axis='x')\n",
    "#plt.set_xticklabels(MODELS, rotation=0, ha='center')\n",
    "\n",
    "for container in plt.containers:\n",
    "  plt.bar_label(container,fmt='%.2f')\n",
    "plt.get_figure().tight_layout()\n",
    "\n",
    "plt.get_figure().savefig('cnn_model_results.pdf')"
   ]
  },
  {
   "cell_type": "code",
   "execution_count": null,
   "metadata": {},
   "outputs": [],
   "source": []
  }
 ],
 "metadata": {
  "accelerator": "GPU",
  "colab": {
   "collapsed_sections": [],
   "name": "mobilenet_model_train.ipynb",
   "provenance": []
  },
  "kernelspec": {
   "display_name": "Python 3 (ipykernel)",
   "language": "python",
   "name": "python3"
  },
  "language_info": {
   "codemirror_mode": {
    "name": "ipython",
    "version": 3
   },
   "file_extension": ".py",
   "mimetype": "text/x-python",
   "name": "python",
   "nbconvert_exporter": "python",
   "pygments_lexer": "ipython3",
   "version": "3.10.13"
  }
 },
 "nbformat": 4,
 "nbformat_minor": 1
}
