{
 "cells": [
  {
   "cell_type": "markdown",
   "id": "otherwise-science",
   "metadata": {},
   "source": [
    "# CNN data analysis - Analysis of image data"
   ]
  },
  {
   "cell_type": "markdown",
   "id": "needed-market",
   "metadata": {},
   "source": [
    "## Python imports"
   ]
  },
  {
   "cell_type": "code",
   "execution_count": 2,
   "id": "statistical-windsor",
   "metadata": {},
   "outputs": [],
   "source": [
    "import csv\n",
    "import numpy as np\n",
    "import os.path\n",
    "import pandas as pd\n",
    "import matplotlib.pyplot as pyplt\n",
    "import cv2"
   ]
  },
  {
   "cell_type": "markdown",
   "id": "ede2fa0d",
   "metadata": {},
   "source": [
    "## Parameters"
   ]
  },
  {
   "cell_type": "markdown",
   "id": "d4ec0aeb",
   "metadata": {},
   "source": [
    "## Collect data"
   ]
  },
  {
   "cell_type": "code",
   "execution_count": 19,
   "id": "e4dd179b",
   "metadata": {},
   "outputs": [
    {
     "name": "stdout",
     "output_type": "stream",
     "text": [
      "Analysing 941 images\n"
     ]
    },
    {
     "name": "stderr",
     "output_type": "stream",
     "text": [
      "/tmp/ipykernel_8113/3711847095.py:10: DeprecationWarning: Conversion of an array with ndim > 0 to a scalar is deprecated, and will error in future. Ensure you extract a single element from your array before performing this operation. (Deprecated NumPy 1.25.)\n",
      "  return float(M[1]**2)  # variance as noise estimate\n"
     ]
    },
    {
     "name": "stdout",
     "output_type": "stream",
     "text": [
      "Analysing 374 images\n"
     ]
    },
    {
     "name": "stderr",
     "output_type": "stream",
     "text": [
      "/tmp/ipykernel_8113/3711847095.py:10: DeprecationWarning: Conversion of an array with ndim > 0 to a scalar is deprecated, and will error in future. Ensure you extract a single element from your array before performing this operation. (Deprecated NumPy 1.25.)\n",
      "  return float(M[1]**2)  # variance as noise estimate\n"
     ]
    },
    {
     "name": "stdout",
     "output_type": "stream",
     "text": [
      "Analysing 539 images\n"
     ]
    },
    {
     "name": "stderr",
     "output_type": "stream",
     "text": [
      "/tmp/ipykernel_8113/3711847095.py:10: DeprecationWarning: Conversion of an array with ndim > 0 to a scalar is deprecated, and will error in future. Ensure you extract a single element from your array before performing this operation. (Deprecated NumPy 1.25.)\n",
      "  return float(M[1]**2)  # variance as noise estimate\n"
     ]
    }
   ],
   "source": [
    "# ========== Quality metric helpers ==========\n",
    "def compute_sharpness(img_gray):\n",
    "    \"\"\"Sharpness via variance of Laplacian.\"\"\"\n",
    "    return cv2.Laplacian(img_gray, cv2.CV_64F).var()\n",
    "\n",
    "def compute_noise(img_gray):\n",
    "    \"\"\"Estimate noise using local variance in flat regions.\"\"\"\n",
    "    h, w = img_gray.shape\n",
    "    M = cv2.meanStdDev(img_gray)\n",
    "    return float(M[1]**2)  # variance as noise estimate\n",
    "\n",
    "def compute_exposure(img_gray):\n",
    "    \"\"\"Exposure balance: ratio of well-exposed pixels.\"\"\"\n",
    "    hist = cv2.calcHist([img_gray], [0], None, [256], [0,256])\n",
    "    hist_norm = hist.ravel() / hist.sum()\n",
    "    under = hist_norm[:30].sum()\n",
    "    over  = hist_norm[225:].sum()\n",
    "    well_exposed = 1.0 - (under + over)\n",
    "    return well_exposed\n",
    "\n",
    "\n",
    "# ========== Main processing ==========\n",
    "def analyze(df):\n",
    "    results = []\n",
    "    print('Analysing', len(df), 'images')\n",
    "    for _,row in df.iterrows():\n",
    "        img = cv2.imread(row['image'])\n",
    "        if img is None:\n",
    "            continue\n",
    "        gray = cv2.cvtColor(img, cv2.COLOR_BGR2GRAY)\n",
    "\n",
    "        # Metrics\n",
    "        sharpness = compute_sharpness(gray)              # higher = sharper\n",
    "        noise = compute_noise(gray)                      # lower = cleaner\n",
    "        exposure = compute_exposure(gray)                # closer to 1 = good\n",
    "\n",
    "        results.append({\n",
    "            \"image\": row['image'],\n",
    "            \"source\": row['source'],\n",
    "            \"sharpness\": sharpness,\n",
    "            \"noise\": noise,\n",
    "            \"exposure\": exposure,\n",
    "        })\n",
    "    return pd.DataFrame(results)\n",
    "\n",
    "\n",
    "all_data = {\n",
    "    'TS':  analyze(pd.read_csv('datasets/vision/TS.tsv', sep='\\t')),\n",
    "    'PW':  analyze(pd.read_csv('datasets/vision/PW.tsv', sep='\\t')),\n",
    "    'RW':  analyze(pd.read_csv('datasets/vision/RW.tsv', sep='\\t'))\n",
    "}\n"
   ]
  },
  {
   "cell_type": "code",
   "execution_count": 21,
   "id": "42fb0f1d",
   "metadata": {},
   "outputs": [
    {
     "data": {
      "text/html": [
       "<div>\n",
       "<style scoped>\n",
       "    .dataframe tbody tr th:only-of-type {\n",
       "        vertical-align: middle;\n",
       "    }\n",
       "\n",
       "    .dataframe tbody tr th {\n",
       "        vertical-align: top;\n",
       "    }\n",
       "\n",
       "    .dataframe thead th {\n",
       "        text-align: right;\n",
       "    }\n",
       "</style>\n",
       "<table border=\"1\" class=\"dataframe\">\n",
       "  <thead>\n",
       "    <tr style=\"text-align: right;\">\n",
       "      <th></th>\n",
       "      <th>image</th>\n",
       "      <th>source</th>\n",
       "      <th>sharpness</th>\n",
       "      <th>noise</th>\n",
       "      <th>exposure</th>\n",
       "    </tr>\n",
       "  </thead>\n",
       "  <tbody>\n",
       "    <tr>\n",
       "      <th>508</th>\n",
       "      <td>video_data/SS/test_Xiaomi_0000_0000.jpeg</td>\n",
       "      <td>Redmi</td>\n",
       "      <td>0.574754</td>\n",
       "      <td>0.831907</td>\n",
       "      <td>0.000120</td>\n",
       "    </tr>\n",
       "    <tr>\n",
       "      <th>509</th>\n",
       "      <td>video_data/SS/test_Xiaomi_0001_0031.jpeg</td>\n",
       "      <td>Redmi</td>\n",
       "      <td>68.659781</td>\n",
       "      <td>1683.264058</td>\n",
       "      <td>0.958760</td>\n",
       "    </tr>\n",
       "    <tr>\n",
       "      <th>510</th>\n",
       "      <td>video_data/SS/test_Xiaomi_0002_0061.jpeg</td>\n",
       "      <td>Redmi</td>\n",
       "      <td>30.579817</td>\n",
       "      <td>1594.322699</td>\n",
       "      <td>0.964941</td>\n",
       "    </tr>\n",
       "    <tr>\n",
       "      <th>511</th>\n",
       "      <td>video_data/SS/test_Xiaomi_0003_0091.jpeg</td>\n",
       "      <td>Redmi</td>\n",
       "      <td>36.051817</td>\n",
       "      <td>2249.073778</td>\n",
       "      <td>0.988519</td>\n",
       "    </tr>\n",
       "    <tr>\n",
       "      <th>512</th>\n",
       "      <td>video_data/SS/test_Xiaomi_0011_0331.jpeg</td>\n",
       "      <td>Redmi</td>\n",
       "      <td>31.661464</td>\n",
       "      <td>3191.923108</td>\n",
       "      <td>0.940578</td>\n",
       "    </tr>\n",
       "    <tr>\n",
       "      <th>...</th>\n",
       "      <td>...</td>\n",
       "      <td>...</td>\n",
       "      <td>...</td>\n",
       "      <td>...</td>\n",
       "      <td>...</td>\n",
       "    </tr>\n",
       "    <tr>\n",
       "      <th>936</th>\n",
       "      <td>video_data/AT_I2/test_Xiaomi_0085_2551.jpeg</td>\n",
       "      <td>Redmi</td>\n",
       "      <td>4.294142</td>\n",
       "      <td>1907.573891</td>\n",
       "      <td>0.959629</td>\n",
       "    </tr>\n",
       "    <tr>\n",
       "      <th>937</th>\n",
       "      <td>video_data/AT_I2/test_Xiaomi_0090_2701.jpeg</td>\n",
       "      <td>Redmi</td>\n",
       "      <td>27.363937</td>\n",
       "      <td>2178.031821</td>\n",
       "      <td>0.976636</td>\n",
       "    </tr>\n",
       "    <tr>\n",
       "      <th>938</th>\n",
       "      <td>video_data/AT_I2/test_Xiaomi_0098_2941.jpeg</td>\n",
       "      <td>Redmi</td>\n",
       "      <td>4.305897</td>\n",
       "      <td>1576.569341</td>\n",
       "      <td>0.968367</td>\n",
       "    </tr>\n",
       "    <tr>\n",
       "      <th>939</th>\n",
       "      <td>video_data/AT_I2/test_Xiaomi_0102_2971.jpeg</td>\n",
       "      <td>Redmi</td>\n",
       "      <td>14.721719</td>\n",
       "      <td>1152.043551</td>\n",
       "      <td>0.978135</td>\n",
       "    </tr>\n",
       "    <tr>\n",
       "      <th>940</th>\n",
       "      <td>video_data/AT_I2/test_Xiaomi_0111_3331.jpeg</td>\n",
       "      <td>Redmi</td>\n",
       "      <td>41.508132</td>\n",
       "      <td>1249.663304</td>\n",
       "      <td>0.988946</td>\n",
       "    </tr>\n",
       "  </tbody>\n",
       "</table>\n",
       "<p>433 rows × 5 columns</p>\n",
       "</div>"
      ],
      "text/plain": [
       "                                           image source  sharpness  \\\n",
       "508     video_data/SS/test_Xiaomi_0000_0000.jpeg  Redmi   0.574754   \n",
       "509     video_data/SS/test_Xiaomi_0001_0031.jpeg  Redmi  68.659781   \n",
       "510     video_data/SS/test_Xiaomi_0002_0061.jpeg  Redmi  30.579817   \n",
       "511     video_data/SS/test_Xiaomi_0003_0091.jpeg  Redmi  36.051817   \n",
       "512     video_data/SS/test_Xiaomi_0011_0331.jpeg  Redmi  31.661464   \n",
       "..                                           ...    ...        ...   \n",
       "936  video_data/AT_I2/test_Xiaomi_0085_2551.jpeg  Redmi   4.294142   \n",
       "937  video_data/AT_I2/test_Xiaomi_0090_2701.jpeg  Redmi  27.363937   \n",
       "938  video_data/AT_I2/test_Xiaomi_0098_2941.jpeg  Redmi   4.305897   \n",
       "939  video_data/AT_I2/test_Xiaomi_0102_2971.jpeg  Redmi  14.721719   \n",
       "940  video_data/AT_I2/test_Xiaomi_0111_3331.jpeg  Redmi  41.508132   \n",
       "\n",
       "           noise  exposure  \n",
       "508     0.831907  0.000120  \n",
       "509  1683.264058  0.958760  \n",
       "510  1594.322699  0.964941  \n",
       "511  2249.073778  0.988519  \n",
       "512  3191.923108  0.940578  \n",
       "..           ...       ...  \n",
       "936  1907.573891  0.959629  \n",
       "937  2178.031821  0.976636  \n",
       "938  1576.569341  0.968367  \n",
       "939  1152.043551  0.978135  \n",
       "940  1249.663304  0.988946  \n",
       "\n",
       "[433 rows x 5 columns]"
      ]
     },
     "execution_count": 21,
     "metadata": {},
     "output_type": "execute_result"
    }
   ],
   "source": [
    "all_data['PTS'] =  all_data['TS'][all_data['TS'].source == 'Pixel']\n",
    "all_data['RTS'] =  all_data['TS'][all_data['TS'].source == 'Redmi']\n",
    "all_data['RTS']"
   ]
  },
  {
   "cell_type": "markdown",
   "id": "b4088565",
   "metadata": {},
   "source": [
    "## Draw plots"
   ]
  },
  {
   "cell_type": "code",
   "execution_count": 33,
   "id": "03d88ae9",
   "metadata": {},
   "outputs": [
    {
     "data": {
      "image/png": "[encoded data removed]",
      "text/plain": [
       "<Figure size 360x720 with 3 Axes>"
      ]
     },
     "metadata": {
      "needs_background": "light"
     },
     "output_type": "display_data"
    }
   ],
   "source": [
    "font = {'family' : 'normal',\n",
    "        'size'   : 12}\n",
    "pyplt.rc('font', **font)\n",
    "pyplt.rcParams[\"figure.figsize\"] = (5,10)\n",
    "\n",
    "f, p = pyplt.subplots(3,1) #sharey=True)\n",
    "\n",
    "p[0].boxplot([all_data[x]['exposure'] for x in ['TS', 'PTS', 'RTS','PW','RW']],\n",
    "             vert=False, \n",
    "             showfliers=False,\n",
    "             showmeans=True,\n",
    "             labels=['TS', 'PTS', 'RTS','PW','RW'])\n",
    "p[0].set_title('Exposure')\n",
    "p[0].invert_yaxis()\n",
    "p[0].set_xticks([0.7, 0.8, 0.9, 1.0])\n",
    "\n",
    "p[1].boxplot([all_data[x]['noise'] for x in ['TS', 'PTS', 'RTS','PW','RW']],\n",
    "             vert=False, \n",
    "             showfliers=False,\n",
    "             showmeans=True,\n",
    "             labels=['TS', 'PTS', 'RTS','PW','RW'])\n",
    "p[1].set_title('Noise')\n",
    "p[1].invert_yaxis()\n",
    "p[1].set_xticks([0, 1500, 3000, 4500, 6000])\n",
    "\n",
    "p[2].boxplot([all_data[x]['sharpness'] for x in ['TS', 'PTS', 'RTS','PW','RW']],\n",
    "             vert=False, \n",
    "             showfliers=False,\n",
    "             showmeans=True,\n",
    "             labels=['TS', 'PTS', 'RTS','PW','RW'])\n",
    "p[2].set_title('Sharpness')\n",
    "p[2].invert_yaxis()\n",
    "f.tight_layout()\n",
    "f.get_figure().savefig(\"image_analysis_boxplots.pdf\")"
   ]
  },
  {
   "cell_type": "code",
   "execution_count": null,
   "id": "aca00fae",
   "metadata": {},
   "outputs": [],
   "source": []
  }
 ],
 "metadata": {
  "kernelspec": {
   "display_name": "Python 3 (ipykernel)",
   "language": "python",
   "name": "python3"
  },
  "language_info": {
   "codemirror_mode": {
    "name": "ipython",
    "version": 3
   },
   "file_extension": ".py",
   "mimetype": "text/x-python",
   "name": "python",
   "nbconvert_exporter": "python",
   "pygments_lexer": "ipython3",
   "version": "3.10.13"
  }
 },
 "nbformat": 4,
 "nbformat_minor": 5
}
