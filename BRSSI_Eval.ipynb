{
 "cells": [
  {
   "cell_type": "markdown",
   "id": "needed-market",
   "metadata": {},
   "source": [
    "# Bluetooth RSSI - Model evaluation\n",
    "\n",
    "## Python imports"
   ]
  },
  {
   "cell_type": "code",
   "execution_count": 1,
   "id": "statistical-windsor",
   "metadata": {},
   "outputs": [],
   "source": [
    "import numpy as np\n",
    "import os.path\n",
    "import matplotlib.pyplot as pyplt\n",
    "import matplotlib.ticker\n",
    "import pandas as pd\n",
    "import pickle\n",
    "import sklearn\n",
    "import sklearn.ensemble\n",
    "import sklearn.linear_model\n",
    "import sklearn.model_selection\n",
    "import sklearn.neural_network\n",
    "import sklearn.preprocessing\n",
    "import sklearn.svm"
   ]
  },
  {
   "cell_type": "markdown",
   "id": "downtown-caution",
   "metadata": {},
   "source": [
    "## Read test datasets (base test split + Pixel & Xiaomi walks)"
   ]
  },
  {
   "cell_type": "code",
   "execution_count": 2,
   "id": "professional-third",
   "metadata": {
    "scrolled": true
   },
   "outputs": [],
   "source": [
    "DATASET_IDS = ['TS', 'PW', 'RW' ]\n",
    "MODELS = [ 'AdaBoost', 'DecisionTree', 'GradientBoost', 'KNN', 'LinearSVM', 'MLP', 'RandomForest', 'RBFSVM']\n",
    "DATASETS = { id: pd.read_csv('datasets/brssi/' + id + '.tsv', sep='\\t') for id in DATASET_IDS }"
   ]
  },
  {
   "cell_type": "markdown",
   "id": "3fc1e79d",
   "metadata": {},
   "source": [
    "## Evaluate accuracy for all model-test set combinations"
   ]
  },
  {
   "cell_type": "code",
   "execution_count": 8,
   "id": "587f7b66",
   "metadata": {},
   "outputs": [
    {
     "data": {
      "text/html": [
       "<div>\n",
       "<style scoped>\n",
       "    .dataframe tbody tr th:only-of-type {\n",
       "        vertical-align: middle;\n",
       "    }\n",
       "\n",
       "    .dataframe tbody tr th {\n",
       "        vertical-align: top;\n",
       "    }\n",
       "\n",
       "    .dataframe thead th {\n",
       "        text-align: right;\n",
       "    }\n",
       "</style>\n",
       "<table border=\"1\" class=\"dataframe\">\n",
       "  <thead>\n",
       "    <tr style=\"text-align: right;\">\n",
       "      <th></th>\n",
       "      <th>Model</th>\n",
       "      <th>TS</th>\n",
       "      <th>PW</th>\n",
       "      <th>RW</th>\n",
       "    </tr>\n",
       "  </thead>\n",
       "  <tbody>\n",
       "    <tr>\n",
       "      <th>0</th>\n",
       "      <td>AdaBoost</td>\n",
       "      <td>0.682622</td>\n",
       "      <td>0.719251</td>\n",
       "      <td>0.527115</td>\n",
       "    </tr>\n",
       "    <tr>\n",
       "      <th>1</th>\n",
       "      <td>DecisionTree</td>\n",
       "      <td>0.744017</td>\n",
       "      <td>0.649733</td>\n",
       "      <td>0.535792</td>\n",
       "    </tr>\n",
       "    <tr>\n",
       "      <th>2</th>\n",
       "      <td>GradientBoost</td>\n",
       "      <td>0.904266</td>\n",
       "      <td>0.794118</td>\n",
       "      <td>0.763557</td>\n",
       "    </tr>\n",
       "    <tr>\n",
       "      <th>3</th>\n",
       "      <td>KNN</td>\n",
       "      <td>0.593132</td>\n",
       "      <td>0.550802</td>\n",
       "      <td>0.409978</td>\n",
       "    </tr>\n",
       "    <tr>\n",
       "      <th>4</th>\n",
       "      <td>LinearSVM</td>\n",
       "      <td>0.800208</td>\n",
       "      <td>0.743316</td>\n",
       "      <td>0.626898</td>\n",
       "    </tr>\n",
       "    <tr>\n",
       "      <th>5</th>\n",
       "      <td>MLP</td>\n",
       "      <td>0.687825</td>\n",
       "      <td>0.649733</td>\n",
       "      <td>0.494577</td>\n",
       "    </tr>\n",
       "    <tr>\n",
       "      <th>6</th>\n",
       "      <td>RandomForest</td>\n",
       "      <td>0.920916</td>\n",
       "      <td>0.850267</td>\n",
       "      <td>0.822126</td>\n",
       "    </tr>\n",
       "    <tr>\n",
       "      <th>7</th>\n",
       "      <td>RBFSVM</td>\n",
       "      <td>0.780437</td>\n",
       "      <td>0.687166</td>\n",
       "      <td>0.603037</td>\n",
       "    </tr>\n",
       "  </tbody>\n",
       "</table>\n",
       "</div>"
      ],
      "text/plain": [
       "           Model        TS        PW        RW\n",
       "0       AdaBoost  0.682622  0.719251  0.527115\n",
       "1   DecisionTree  0.744017  0.649733  0.535792\n",
       "2  GradientBoost  0.904266  0.794118  0.763557\n",
       "3            KNN  0.593132  0.550802  0.409978\n",
       "4      LinearSVM  0.800208  0.743316  0.626898\n",
       "5            MLP  0.687825  0.649733  0.494577\n",
       "6   RandomForest  0.920916  0.850267  0.822126\n",
       "7         RBFSVM  0.780437  0.687166  0.603037"
      ]
     },
     "execution_count": 8,
     "metadata": {},
     "output_type": "execute_result"
    }
   ],
   "source": [
    "results = []\n",
    "for m in MODELS:\n",
    "    with open(os.path.join('models/brssi/', m + '.pkl'), 'rb') as f:\n",
    "        classifier = pickle.load(f)\n",
    "        r = [m]\n",
    "        for d,df in DATASETS.items():\n",
    "            y = df['label']\n",
    "            X = df.drop(columns=['source','time','label'])\n",
    "            y_pred = classifier.predict_proba(X)\n",
    "            results_df = pd.DataFrame()\n",
    "            results_df['label'] = df['label']\n",
    "            results_df['time'] = df['time']\n",
    "            results_df['source'] = df['source']\n",
    "            for idx,cat in enumerate(classifier.classes_):\n",
    "                results_df[cat] = [ y[idx] for y in y_pred]\n",
    "            results_df['prediction'] = results_df[classifier.classes_].idxmax(axis='columns')\n",
    "            #print(type(classifier.classes_))\n",
    "            results_df = results_df.loc[:, ['label','time','source','prediction'] + list(classifier.classes_)]\n",
    "            results_df.sort_values(by=['label','source','time'], inplace=True)\n",
    "            \n",
    "            results_df.to_csv('results/brssi/'+ m + '_' + d + '.tsv', header=True, index=False, sep='\\t')\n",
    "            r.append(classifier.score(X,y))\n",
    "        results.append(r)\n",
    "plot_data = pd.DataFrame(results, columns=['Model'] + DATASET_IDS)\n",
    "plot_data"
   ]
  },
  {
   "cell_type": "markdown",
   "id": "34285824",
   "metadata": {},
   "source": [
    "## Derive plot"
   ]
  },
  {
   "cell_type": "code",
   "execution_count": null,
   "id": "ba8c2ddb",
   "metadata": {},
   "outputs": [],
   "source": [
    "font = {'family' : 'normal',\n",
    "        'size'   : 12}\n",
    "pyplt.rc('font', **font)\n",
    "pyplt.rcParams[\"figure.figsize\"] = (14,8)\n",
    "\n",
    "plt = plot_data.plot.bar(x='Model',y=DATASET_IDS,color=['black','darkgray','lightgray'],width=0.9)\n",
    "plt.legend(loc='upper left',ncol=3)\n",
    "plt.set_ylim([0.3,1.0])\n",
    "plt.set_xlabel('')\n",
    "plt.grid(axis='y')\n",
    "plt.set_xticklabels(MODELS, rotation=0, ha='center')\n",
    "\n",
    "for container in plt.containers:\n",
    "  plt.bar_label(container,fmt='%.2f')\n",
    "plt.get_figure().tight_layout()\n",
    "plt.get_figure().savefig('bluetooth_model_results.pdf')"
   ]
  },
  {
   "cell_type": "code",
   "execution_count": null,
   "id": "b2a6985b",
   "metadata": {},
   "outputs": [],
   "source": []
  }
 ],
 "metadata": {
  "kernelspec": {
   "display_name": "Python 3 (ipykernel)",
   "language": "python",
   "name": "python3"
  },
  "language_info": {
   "codemirror_mode": {
    "name": "ipython",
    "version": 3
   },
   "file_extension": ".py",
   "mimetype": "text/x-python",
   "name": "python",
   "nbconvert_exporter": "python",
   "pygments_lexer": "ipython3",
   "version": "3.10.13"
  }
 },
 "nbformat": 4,
 "nbformat_minor": 5
}
