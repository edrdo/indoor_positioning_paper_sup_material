{
 "cells": [
  {
   "cell_type": "markdown",
   "id": "otherwise-science",
   "metadata": {},
   "source": [
    "# Bluetooth RSSI - Analysis of beacon signals and detection patterns"
   ]
  },
  {
   "cell_type": "markdown",
   "id": "needed-market",
   "metadata": {},
   "source": [
    "## Python imports"
   ]
  },
  {
   "cell_type": "code",
   "execution_count": 63,
   "id": "statistical-windsor",
   "metadata": {},
   "outputs": [],
   "source": [
    "import csv\n",
    "import numpy as np\n",
    "import os.path\n",
    "import pandas as pd\n",
    "import pickle\n",
    "import re\n",
    "import matplotlib.pyplot as pyplt\n"
   ]
  },
  {
   "cell_type": "markdown",
   "id": "ede2fa0d",
   "metadata": {},
   "source": [
    "## Parameters"
   ]
  },
  {
   "cell_type": "code",
   "execution_count": 64,
   "id": "conditional-subcommittee",
   "metadata": {},
   "outputs": [],
   "source": [
    "BEACON_LIST = [\n",
    "  \"6859b8e6126b\",\n",
    "  \"c69294c41e47\", \n",
    "  \"e7b2d23d89ec\",\n",
    "  \"e9bdcc7d8fe6\",\n",
    "  \"ef3b3dd2a002\",\n",
    "  \"ef3b3dd2a003\",\n",
    "  \"ef3b3dd2a005\",\n",
    "  \"ef3b3dd2a006\",\n",
    "  \"ef3b3dd2a008\",\n",
    "  \"ef3b3dd2a009\",\n",
    "  \"ef3b3dd2a011\",\n",
    "  \"ef3b3dd2a012\",\n",
    "  \"ef3b3dd2a013\",\n",
    "  \"ef3b3dd2a014\",\n",
    "  \"ef3b3dd2a015\",\n",
    "  \"ef3b3dd2a016\",\n",
    "  \"ef3b3dd2a018\",\n",
    "  \"ef3b3dd2a019\",\n",
    "  \"ef3b3dd2a020\",\n",
    "  \"ef3b3dd2e001\",\n",
    "  \"ef3b3dd2e003\",\n",
    "  \"ef3b3dd2e004\",\n",
    "  \"ef3b3dd2e006\",\n",
    "  \"ef3b3dd2e007\",\n",
    "  \"ef3b3dd2e008\",\n",
    "  \"ef3b3dd2e009\",\n",
    "  \"f80332eda645\"\n",
    "]\n",
    "\n",
    "BEACON_NOT_VISIBLE_VALUE = -200"
   ]
  },
  {
   "cell_type": "markdown",
   "id": "d4ec0aeb",
   "metadata": {},
   "source": [
    "## Collect data"
   ]
  },
  {
   "cell_type": "code",
   "execution_count": 65,
   "id": "38824828",
   "metadata": {},
   "outputs": [
    {
     "name": "stdout",
     "output_type": "stream",
     "text": [
      "TS 17118 [-96.   -91.   -85.25] [14. 20. 22.]\n",
      "PW 5806 [-98.  -92.5 -86.8] [11. 16. 20.]\n",
      "RW 8931 [-94.  -89.5 -83. ] [17. 20. 23.]\n",
      "PTS 8115 [-98.   -93.   -87.25] [11. 16. 21.]\n",
      "RTS 9003 [-94.         -89.33333333 -83.5       ] [18. 21. 23.]\n"
     ]
    }
   ],
   "source": [
    "def analyze(desc,df):\n",
    "    detections = []\n",
    "    rssi_values = []\n",
    "    bcounts = { b: 0.0 for b in BEACON_LIST }\n",
    "    for _, row in df[BEACON_LIST].iterrows():\n",
    "        b_count = 0\n",
    "        v = []\n",
    "        for b in BEACON_LIST:\n",
    "            if  row[b] > BEACON_NOT_VISIBLE_VALUE:\n",
    "                bcounts[b] += 1\n",
    "                v.append(float(row[b]))\n",
    "        detections.append(len(v))\n",
    "        for x in v:\n",
    "            rssi_values.append(x)\n",
    "    bfreq = np.array([ bcounts[b] for b in BEACON_LIST]) / len(df)\n",
    "    print(desc, len(rssi_values), np.quantile(rssi_values, [0.25, 0.5, 0.75]), np.quantile(detections, [0.25, 0.5, 0.75]))\n",
    "    return {   'dataset': desc, \n",
    "               'samples': len(df),\n",
    "               'detections': np.array(detections), \n",
    "               'rssi': np.array(rssi_values), \n",
    "               'bfreq': bfreq }\n",
    " \n",
    "TS_df = pd.read_csv('datasets/brssi/TS.tsv', sep='\\t')\n",
    "PW_df = pd.read_csv('datasets/brssi/PW.tsv', sep='\\t')\n",
    "RW_df = pd.read_csv('datasets/brssi/RW.tsv', sep='\\t')\n",
    "all_data = {\n",
    "    'TS':  analyze('TS', TS_df),\n",
    "    'PW':  analyze('PW', PW_df),\n",
    "    'RW':  analyze('RW', RW_df),\n",
    "    'PTS': analyze('PTS', TS_df[TS_df.source == 'Pixel']),\n",
    "    'RTS': analyze('RTS', TS_df[TS_df.source == 'Redmi'])\n",
    "}"
   ]
  },
  {
   "cell_type": "markdown",
   "id": "b4088565",
   "metadata": {},
   "source": [
    "## Draw plots"
   ]
  },
  {
   "cell_type": "code",
   "execution_count": 66,
   "id": "03d88ae9",
   "metadata": {},
   "outputs": [
    {
     "data": {
      "image/png": "[encoded data removed]",
      "text/plain": [
       "<Figure size 1080x216 with 3 Axes>"
      ]
     },
     "metadata": {
      "needs_background": "light"
     },
     "output_type": "display_data"
    }
   ],
   "source": [
    "font = {'family' : 'normal',\n",
    "        'size'   : 12}\n",
    "pyplt.rc('font', **font)\n",
    "pyplt.rcParams[\"figure.figsize\"] = (15,3)\n",
    "\n",
    "f, p = pyplt.subplots(1,3) #sharey=True)\n",
    "\n",
    "p[0].boxplot([all_data[x]['rssi'] for x in ['TS', 'PTS', 'RTS','PW','RW']],\n",
    "             vert=False, \n",
    "             showfliers=False,\n",
    "             showmeans=True,\n",
    "             labels=['TS', 'PTS', 'RTS','PW','RW'])\n",
    "p[0].set_title('RSSI values')\n",
    "p[0].invert_yaxis()\n",
    "p[0].set_xticks([-110,-100,-90,-80,-70])\n",
    "\n",
    "bp=p[1].boxplot([all_data[x]['detections'] for x in ['TS', 'PTS', 'RTS','PW','RW']],\n",
    "             vert=False, \n",
    "             showfliers=False,\n",
    "             showmeans=True,\n",
    "             labels=['TS', 'PTS', 'RTS','PW','RW'])\n",
    "p[1].set_title('# beacons per sample')\n",
    "p[1].invert_yaxis()\n",
    "p[1].set_xticks([0,5,10,15,20,25,27])\n",
    "\n",
    "p[2].boxplot([all_data[x]['bfreq'] for x in ['TS', 'PTS', 'RTS','PW','RW']],\n",
    "             vert=False, \n",
    "             showfliers=False,\n",
    "             showmeans=True,\n",
    "             labels=['TS', 'PTS', 'RTS','PW','RW'])\n",
    "p[2].set_title('detection frequency per beacon')\n",
    "p[2].invert_yaxis()\n",
    "p[2].set_xticks([0.2,0.4,0.6,0.8,1.0])\n",
    "f.tight_layout()\n",
    "f.get_figure().savefig(\"beacon_analysis_boxplots.pdf\")"
   ]
  }
 ],
 "metadata": {
  "kernelspec": {
   "display_name": "Python 3 (ipykernel)",
   "language": "python",
   "name": "python3"
  },
  "language_info": {
   "codemirror_mode": {
    "name": "ipython",
    "version": 3
   },
   "file_extension": ".py",
   "mimetype": "text/x-python",
   "name": "python",
   "nbconvert_exporter": "python",
   "pygments_lexer": "ipython3",
   "version": "3.10.13"
  }
 },
 "nbformat": 4,
 "nbformat_minor": 5
}
