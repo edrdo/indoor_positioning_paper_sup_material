{
 "cells": [
  {
   "cell_type": "markdown",
   "id": "needed-market",
   "metadata": {},
   "source": [
    "# Bluetooth RSSI - Model evaluation\n",
    "\n",
    "## Python imports"
   ]
  },
  {
   "cell_type": "code",
   "execution_count": 1,
   "id": "statistical-windsor",
   "metadata": {},
   "outputs": [],
   "source": [
    "import numpy as np\n",
    "import os.path\n",
    "import matplotlib.pyplot as pyplt\n",
    "import matplotlib.ticker\n",
    "import pandas as pd"
   ]
  },
  {
   "cell_type": "markdown",
   "id": "3fc1e79d",
   "metadata": {},
   "source": [
    "## Calculate accuracy for all model-test set combinations"
   ]
  },
  {
   "cell_type": "code",
   "execution_count": 4,
   "id": "587f7b66",
   "metadata": {},
   "outputs": [
    {
     "name": "stdout",
     "output_type": "stream",
     "text": [
      "LogisticRegression TS 0.9776833156216791\n",
      "LogisticRegression PTS 0.9763779527559056\n",
      "LogisticRegression RTS 0.9792147806004619\n",
      "LogisticRegression PW 0.859504132231405\n",
      "LogisticRegression RW 0.9080717488789237\n",
      "LogisticRegression_Pixel TS 0.900106269925611\n",
      "LogisticRegression_Pixel PTS 0.9803149606299213\n",
      "LogisticRegression_Pixel RTS 0.8060046189376443\n",
      "LogisticRegression_Pixel PW 0.8099173553719008\n",
      "LogisticRegression_Pixel RW 0.8094170403587444\n",
      "LogisticRegression_Redmi TS 0.8990435706695006\n",
      "LogisticRegression_Redmi PTS 0.8248031496062992\n",
      "LogisticRegression_Redmi RTS 0.9861431870669746\n",
      "LogisticRegression_Redmi PW 0.6914600550964187\n",
      "LogisticRegression_Redmi RW 0.8834080717488789\n"
     ]
    },
    {
     "data": {
      "text/html": [
       "<div>\n",
       "<style scoped>\n",
       "    .dataframe tbody tr th:only-of-type {\n",
       "        vertical-align: middle;\n",
       "    }\n",
       "\n",
       "    .dataframe tbody tr th {\n",
       "        vertical-align: top;\n",
       "    }\n",
       "\n",
       "    .dataframe thead th {\n",
       "        text-align: right;\n",
       "    }\n",
       "</style>\n",
       "<table border=\"1\" class=\"dataframe\">\n",
       "  <thead>\n",
       "    <tr style=\"text-align: right;\">\n",
       "      <th></th>\n",
       "      <th>Model</th>\n",
       "      <th>TS</th>\n",
       "      <th>PTS</th>\n",
       "      <th>RTS</th>\n",
       "      <th>PW</th>\n",
       "      <th>RW</th>\n",
       "    </tr>\n",
       "  </thead>\n",
       "  <tbody>\n",
       "    <tr>\n",
       "      <th>0</th>\n",
       "      <td>LogisticRegression</td>\n",
       "      <td>0.977683</td>\n",
       "      <td>0.976378</td>\n",
       "      <td>0.979215</td>\n",
       "      <td>0.859504</td>\n",
       "      <td>0.908072</td>\n",
       "    </tr>\n",
       "    <tr>\n",
       "      <th>1</th>\n",
       "      <td>LogisticRegression_Pixel</td>\n",
       "      <td>0.900106</td>\n",
       "      <td>0.980315</td>\n",
       "      <td>0.806005</td>\n",
       "      <td>0.809917</td>\n",
       "      <td>0.809417</td>\n",
       "    </tr>\n",
       "    <tr>\n",
       "      <th>2</th>\n",
       "      <td>LogisticRegression_Redmi</td>\n",
       "      <td>0.899044</td>\n",
       "      <td>0.824803</td>\n",
       "      <td>0.986143</td>\n",
       "      <td>0.691460</td>\n",
       "      <td>0.883408</td>\n",
       "    </tr>\n",
       "  </tbody>\n",
       "</table>\n",
       "</div>"
      ],
      "text/plain": [
       "                      Model        TS       PTS       RTS        PW        RW\n",
       "0        LogisticRegression  0.977683  0.976378  0.979215  0.859504  0.908072\n",
       "1  LogisticRegression_Pixel  0.900106  0.980315  0.806005  0.809917  0.809417\n",
       "2  LogisticRegression_Redmi  0.899044  0.824803  0.986143  0.691460  0.883408"
      ]
     },
     "execution_count": 4,
     "metadata": {},
     "output_type": "execute_result"
    }
   ],
   "source": [
    "MODEL_IDS = [ 'SoftVoting', 'KNN', 'LogisticRegression', 'RandomForest']\n",
    "MODEL_IDS = [ 'LogisticRegression','LogisticRegression_Pixel','LogisticRegression_Redmi' ]\n",
    "DATASET_IDS = ['TS', 'PW', 'RW' ]\n",
    "DATASET_IDS = ['TS',  'PTS', 'RTS', 'PW',  'RW']\n",
    "\n",
    "results = []\n",
    "for m_id in MODEL_IDS:\n",
    "    r = [m_id]\n",
    "    for d_id in DATASET_IDS:\n",
    "        df = pd.read_csv('results/hybrid/' + m_id + '_' + d_id + '.tsv', sep='\\t')\n",
    "        score = (df['label'] == df['prediction']).astype(float).mean()\n",
    "        print(m_id, d_id, score)\n",
    "        r.append(score)\n",
    "    results.append(r)\n",
    " \n",
    "#results.append(['BRSSI (RandomForest)', 0.92, 0.85, 0.82 ])\n",
    "#results.append(['CNN (MobileNetV1)', 0.91, 0.67, 0.79])\n",
    "\n",
    "plot_data = pd.DataFrame(results, columns=['Model'] + DATASET_IDS)\n",
    "plot_data"
   ]
  },
  {
   "cell_type": "markdown",
   "id": "34285824",
   "metadata": {},
   "source": [
    "## Derive plot"
   ]
  },
  {
   "cell_type": "code",
   "execution_count": 14,
   "id": "31ec4595",
   "metadata": {},
   "outputs": [
    {
     "data": {
      "image/png": "[encoded data removed]",
      "text/plain": [
       "<Figure size 576x288 with 1 Axes>"
      ]
     },
     "metadata": {
      "needs_background": "light"
     },
     "output_type": "display_data"
    }
   ],
   "source": [
    "font = {'family' : 'normal',\n",
    "        'size'   : 12}\n",
    "pyplt.rc('font', **font)\n",
    "pyplt.rcParams[\"figure.figsize\"] = (8,4)\n",
    "\n",
    "plt = plot_data.plot.barh(x='Model',y=DATASET_IDS,color=['black','gray','gainsboro','darkgray','lightgray'],width=0.9)\n",
    "#plt.legend(loc='lower right',ncol=3)\n",
    "plt.legend(loc='upper center',ncol=5,bbox_to_anchor=(0.5,-0.1))\n",
    "#plt.set_xlim([0.65,1.0])\n",
    "plt.set_xlim([0.3,1.0])\n",
    "plt.invert_yaxis()\n",
    "plt.set_ylabel('')\n",
    "plt.grid(axis='x')\n",
    "#plt.set_xticklabels(MODELS, rotation=0, ha='center')\n",
    "\n",
    "for container in plt.containers:\n",
    "  plt.bar_label(container,fmt='%.2f')\n",
    "plt.get_figure().tight_layout()\n",
    "plt.get_figure().savefig('hybrid_model_results.pdf')"
   ]
  },
  {
   "cell_type": "code",
   "execution_count": null,
   "id": "d9daab3e",
   "metadata": {},
   "outputs": [],
   "source": []
  }
 ],
 "metadata": {
  "kernelspec": {
   "display_name": "Python 3 (ipykernel)",
   "language": "python",
   "name": "python3"
  },
  "language_info": {
   "codemirror_mode": {
    "name": "ipython",
    "version": 3
   },
   "file_extension": ".py",
   "mimetype": "text/x-python",
   "name": "python",
   "nbconvert_exporter": "python",
   "pygments_lexer": "ipython3",
   "version": "3.10.13"
  }
 },
 "nbformat": 4,
 "nbformat_minor": 5
}
