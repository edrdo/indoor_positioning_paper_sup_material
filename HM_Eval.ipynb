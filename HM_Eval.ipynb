{
 "cells": [
  {
   "cell_type": "markdown",
   "id": "needed-market",
   "metadata": {},
   "source": [
    "# Bluetooth RSSI - Model evaluation\n",
    "\n",
    "## Python imports"
   ]
  },
  {
   "cell_type": "code",
   "execution_count": 1,
   "id": "statistical-windsor",
   "metadata": {},
   "outputs": [],
   "source": [
    "import numpy as np\n",
    "import os.path\n",
    "import matplotlib.pyplot as pyplt\n",
    "import matplotlib.ticker\n",
    "import pandas as pd"
   ]
  },
  {
   "cell_type": "markdown",
   "id": "3fc1e79d",
   "metadata": {},
   "source": [
    "## Calculate accuracy for all model-test set combinations"
   ]
  },
  {
   "cell_type": "code",
   "execution_count": 2,
   "id": "587f7b66",
   "metadata": {},
   "outputs": [
    {
     "name": "stdout",
     "output_type": "stream",
     "text": [
      "SoftVoting TS 0.9766206163655685\n",
      "SoftVoting PW 0.8181818181818182\n",
      "SoftVoting RW 0.9125560538116592\n",
      "KNN TS 0.9766206163655685\n",
      "KNN PW 0.8539944903581267\n",
      "KNN RW 0.9013452914798207\n",
      "LogisticRegression TS 0.9776833156216791\n",
      "LogisticRegression PW 0.859504132231405\n",
      "LogisticRegression RW 0.9080717488789237\n",
      "RandomForest TS 0.9617428267800212\n",
      "RandomForest PW 0.8402203856749312\n",
      "RandomForest RW 0.8609865470852018\n"
     ]
    },
    {
     "data": {
      "text/html": [
       "<div>\n",
       "<style scoped>\n",
       "    .dataframe tbody tr th:only-of-type {\n",
       "        vertical-align: middle;\n",
       "    }\n",
       "\n",
       "    .dataframe tbody tr th {\n",
       "        vertical-align: top;\n",
       "    }\n",
       "\n",
       "    .dataframe thead th {\n",
       "        text-align: right;\n",
       "    }\n",
       "</style>\n",
       "<table border=\"1\" class=\"dataframe\">\n",
       "  <thead>\n",
       "    <tr style=\"text-align: right;\">\n",
       "      <th></th>\n",
       "      <th>Model</th>\n",
       "      <th>TS</th>\n",
       "      <th>PW</th>\n",
       "      <th>RW</th>\n",
       "    </tr>\n",
       "  </thead>\n",
       "  <tbody>\n",
       "    <tr>\n",
       "      <th>0</th>\n",
       "      <td>SoftVoting</td>\n",
       "      <td>0.976621</td>\n",
       "      <td>0.818182</td>\n",
       "      <td>0.912556</td>\n",
       "    </tr>\n",
       "    <tr>\n",
       "      <th>1</th>\n",
       "      <td>KNN</td>\n",
       "      <td>0.976621</td>\n",
       "      <td>0.853994</td>\n",
       "      <td>0.901345</td>\n",
       "    </tr>\n",
       "    <tr>\n",
       "      <th>2</th>\n",
       "      <td>LogisticRegression</td>\n",
       "      <td>0.977683</td>\n",
       "      <td>0.859504</td>\n",
       "      <td>0.908072</td>\n",
       "    </tr>\n",
       "    <tr>\n",
       "      <th>3</th>\n",
       "      <td>RandomForest</td>\n",
       "      <td>0.961743</td>\n",
       "      <td>0.840220</td>\n",
       "      <td>0.860987</td>\n",
       "    </tr>\n",
       "  </tbody>\n",
       "</table>\n",
       "</div>"
      ],
      "text/plain": [
       "                Model        TS        PW        RW\n",
       "0          SoftVoting  0.976621  0.818182  0.912556\n",
       "1                 KNN  0.976621  0.853994  0.901345\n",
       "2  LogisticRegression  0.977683  0.859504  0.908072\n",
       "3        RandomForest  0.961743  0.840220  0.860987"
      ]
     },
     "execution_count": 2,
     "metadata": {},
     "output_type": "execute_result"
    }
   ],
   "source": [
    "MODEL_IDS = [ 'SoftVoting', 'KNN', 'LogisticRegression', 'RandomForest']\n",
    "#MODEL_IDS = [ 'LogisticRegression','LogisticRegression_Pixel','LogisticRegression_Redmi' ]\n",
    "DATASET_IDS = ['TS', 'PW', 'RW' ]\n",
    "#DATASET_IDS = ['TS',  'PTS', 'RTS', 'PW',  'RW']\n",
    "\n",
    "results = []\n",
    "for m_id in MODEL_IDS:\n",
    "    r = [m_id]\n",
    "    for d_id in DATASET_IDS:\n",
    "        df = pd.read_csv('results/hybrid/' + m_id + '_' + d_id + '.tsv', sep='\\t')\n",
    "        score = (df['label'] == df['prediction']).astype(float).mean()\n",
    "        print(m_id, d_id, score)\n",
    "        r.append(score)\n",
    "    results.append(r)\n",
    " \n",
    "#results.append(['BRSSI (RandomForest)', 0.92, 0.85, 0.82 ])\n",
    "#results.append(['CNN (MobileNetV1)', 0.91, 0.67, 0.79])\n",
    "\n",
    "plot_data = pd.DataFrame(results, columns=['Model'] + DATASET_IDS)\n",
    "plot_data"
   ]
  },
  {
   "cell_type": "markdown",
   "id": "34285824",
   "metadata": {},
   "source": [
    "## Derive plot"
   ]
  },
  {
   "cell_type": "code",
   "execution_count": 3,
   "id": "31ec4595",
   "metadata": {},
   "outputs": [
    {
     "name": "stderr",
     "output_type": "stream",
     "text": [
      "findfont: Font family ['normal'] not found. Falling back to DejaVu Sans.\n"
     ]
    },
    {
     "data": {
      "image/png": "[encoded data removed]",
      "text/plain": [
       "<Figure size 576x288 with 1 Axes>"
      ]
     },
     "metadata": {
      "needs_background": "light"
     },
     "output_type": "display_data"
    }
   ],
   "source": [
    "font = {'family' : 'normal',\n",
    "        'size'   : 12}\n",
    "pyplt.rc('font', **font)\n",
    "pyplt.rcParams[\"figure.figsize\"] = (8,4)\n",
    "\n",
    "plt = plot_data.plot.barh(x='Model',y=DATASET_IDS,color=['black','gray','gainsboro','darkgray','lightgray'],width=0.9)\n",
    "#plt.legend(loc='lower right',ncol=3)\n",
    "plt.legend(loc='upper center',ncol=5,bbox_to_anchor=(0.5,-0.1))\n",
    "#plt.set_xlim([0.65,1.0])\n",
    "plt.set_xlim([0.3,1.0])\n",
    "plt.invert_yaxis()\n",
    "plt.set_ylabel('')\n",
    "plt.grid(axis='x')\n",
    "#plt.set_xticklabels(MODELS, rotation=0, ha='center')\n",
    "\n",
    "for container in plt.containers:\n",
    "  plt.bar_label(container,fmt='%.2f')\n",
    "plt.get_figure().tight_layout()\n",
    "plt.get_figure().savefig('hybrid_model_results.pdf')"
   ]
  },
  {
   "cell_type": "code",
   "execution_count": null,
   "id": "d9daab3e",
   "metadata": {},
   "outputs": [],
   "source": []
  }
 ],
 "metadata": {
  "kernelspec": {
   "display_name": "Python 3 (ipykernel)",
   "language": "python",
   "name": "python3"
  },
  "language_info": {
   "codemirror_mode": {
    "name": "ipython",
    "version": 3
   },
   "file_extension": ".py",
   "mimetype": "text/x-python",
   "name": "python",
   "nbconvert_exporter": "python",
   "pygments_lexer": "ipython3",
   "version": "3.10.13"
  }
 },
 "nbformat": 4,
 "nbformat_minor": 5
}
